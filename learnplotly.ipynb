{
 "cells": [
  {
   "cell_type": "code",
   "execution_count": 2,
   "metadata": {},
   "outputs": [],
   "source": [
    "import pandas as pd\n",
    "import numpy as np\n",
    "import matplotlib.pyplot as plt\n",
    "import seaborn as sns"
   ]
  },
  {
   "cell_type": "code",
   "execution_count": 3,
   "metadata": {},
   "outputs": [
    {
     "name": "stdout",
     "output_type": "stream",
     "text": [
      "Requirement already satisfied: plotly in d:\\python\\lib\\site-packages (5.24.1)\n",
      "Requirement already satisfied: tenacity>=6.2.0 in d:\\python\\lib\\site-packages (from plotly) (9.0.0)\n",
      "Requirement already satisfied: packaging in c:\\users\\giri\\appdata\\roaming\\python\\python313\\site-packages (from plotly) (24.2)\n",
      "Note: you may need to restart the kernel to use updated packages.\n"
     ]
    }
   ],
   "source": [
    "pip install plotly"
   ]
  },
  {
   "cell_type": "code",
   "execution_count": 4,
   "metadata": {},
   "outputs": [],
   "source": [
    "df = pd.read_csv(\"bird-window-collision-death.csv\")"
   ]
  },
  {
   "cell_type": "code",
   "execution_count": 5,
   "metadata": {},
   "outputs": [
    {
     "data": {
      "text/html": [
       "<div>\n",
       "<style scoped>\n",
       "    .dataframe tbody tr th:only-of-type {\n",
       "        vertical-align: middle;\n",
       "    }\n",
       "\n",
       "    .dataframe tbody tr th {\n",
       "        vertical-align: top;\n",
       "    }\n",
       "\n",
       "    .dataframe thead th {\n",
       "        text-align: right;\n",
       "    }\n",
       "</style>\n",
       "<table border=\"1\" class=\"dataframe\">\n",
       "  <thead>\n",
       "    <tr style=\"text-align: right;\">\n",
       "      <th></th>\n",
       "      <th>Date</th>\n",
       "      <th>YEAR</th>\n",
       "      <th>MONTH</th>\n",
       "      <th>Bldg #</th>\n",
       "      <th>Side</th>\n",
       "      <th>SpeciesCode</th>\n",
       "      <th>Common Name</th>\n",
       "      <th>Deaths</th>\n",
       "    </tr>\n",
       "  </thead>\n",
       "  <tbody>\n",
       "    <tr>\n",
       "      <th>0</th>\n",
       "      <td>10/19/2013</td>\n",
       "      <td>2013</td>\n",
       "      <td>OCT</td>\n",
       "      <td>twelve</td>\n",
       "      <td>E</td>\n",
       "      <td>MODO</td>\n",
       "      <td>Mourning Dove</td>\n",
       "      <td>1</td>\n",
       "    </tr>\n",
       "    <tr>\n",
       "      <th>1</th>\n",
       "      <td>10/22/2013</td>\n",
       "      <td>2013</td>\n",
       "      <td>OCT</td>\n",
       "      <td>seventeen</td>\n",
       "      <td>C</td>\n",
       "      <td>EATO</td>\n",
       "      <td>Eastern Towhee</td>\n",
       "      <td>1</td>\n",
       "    </tr>\n",
       "    <tr>\n",
       "      <th>2</th>\n",
       "      <td>10/23/2013</td>\n",
       "      <td>2013</td>\n",
       "      <td>OCT</td>\n",
       "      <td>ten</td>\n",
       "      <td>D</td>\n",
       "      <td>HETH</td>\n",
       "      <td>Hermit Thrush</td>\n",
       "      <td>1</td>\n",
       "    </tr>\n",
       "    <tr>\n",
       "      <th>3</th>\n",
       "      <td>10/27/2013</td>\n",
       "      <td>2013</td>\n",
       "      <td>OCT</td>\n",
       "      <td>seven</td>\n",
       "      <td>B</td>\n",
       "      <td>GCKI</td>\n",
       "      <td>Golden-crowned Kinglet</td>\n",
       "      <td>1</td>\n",
       "    </tr>\n",
       "    <tr>\n",
       "      <th>4</th>\n",
       "      <td>10/28/2013</td>\n",
       "      <td>2013</td>\n",
       "      <td>OCT</td>\n",
       "      <td>nine</td>\n",
       "      <td>D</td>\n",
       "      <td>GRCA</td>\n",
       "      <td>Gray Catbird</td>\n",
       "      <td>1</td>\n",
       "    </tr>\n",
       "  </tbody>\n",
       "</table>\n",
       "</div>"
      ],
      "text/plain": [
       "         Date  YEAR MONTH     Bldg # Side SpeciesCode  \\\n",
       "0  10/19/2013  2013   OCT     twelve    E        MODO   \n",
       "1  10/22/2013  2013   OCT  seventeen    C        EATO   \n",
       "2  10/23/2013  2013   OCT        ten    D        HETH   \n",
       "3  10/27/2013  2013   OCT      seven    B        GCKI   \n",
       "4  10/28/2013  2013   OCT       nine    D        GRCA   \n",
       "\n",
       "               Common Name  Deaths  \n",
       "0           Mourning Dove        1  \n",
       "1          Eastern Towhee        1  \n",
       "2           Hermit Thrush        1  \n",
       "3  Golden-crowned Kinglet        1  \n",
       "4            Gray Catbird        1  "
      ]
     },
     "execution_count": 5,
     "metadata": {},
     "output_type": "execute_result"
    }
   ],
   "source": [
    "df.head()"
   ]
  },
  {
   "cell_type": "code",
   "execution_count": 21,
   "metadata": {},
   "outputs": [
    {
     "data": {
      "application/vnd.plotly.v1+json": {
       "config": {
        "plotlyServerURL": "https://plot.ly"
       },
       "data": [
        {
         "customdata": [
          [
           "E"
          ],
          [
           "C"
          ],
          [
           "D"
          ],
          [
           "B"
          ],
          [
           "D"
          ],
          [
           "B"
          ],
          [
           "B"
          ],
          [
           "B"
          ],
          [
           "A"
          ],
          [
           "B"
          ],
          [
           "C"
          ],
          [
           "D"
          ],
          [
           "C"
          ],
          [
           "A"
          ],
          [
           "D"
          ],
          [
           "C"
          ],
          [
           "C"
          ],
          [
           "C"
          ],
          [
           "C"
          ],
          [
           "B"
          ],
          [
           "B"
          ],
          [
           "B"
          ],
          [
           "C"
          ],
          [
           "A"
          ],
          [
           "D"
          ],
          [
           "D"
          ],
          [
           "A"
          ],
          [
           "C"
          ],
          [
           "D"
          ],
          [
           "E"
          ],
          [
           "C"
          ],
          [
           "A"
          ],
          [
           "A"
          ],
          [
           "D"
          ],
          [
           "B"
          ],
          [
           "D"
          ],
          [
           "D"
          ],
          [
           "A"
          ],
          [
           "B"
          ],
          [
           "C"
          ],
          [
           "D"
          ],
          [
           "A"
          ],
          [
           "C"
          ],
          [
           "B"
          ],
          [
           "B"
          ],
          [
           "F"
          ],
          [
           "E"
          ],
          [
           "C"
          ],
          [
           "A"
          ],
          [
           "F"
          ],
          [
           "A"
          ],
          [
           "D"
          ],
          [
           "E"
          ],
          [
           "B"
          ],
          [
           "E"
          ],
          [
           "B"
          ],
          [
           "F"
          ],
          [
           "B"
          ],
          [
           "D"
          ],
          [
           "B"
          ],
          [
           "C"
          ],
          [
           "A"
          ],
          [
           "C"
          ],
          [
           "B"
          ],
          [
           "B"
          ],
          [
           "C"
          ],
          [
           "B"
          ],
          [
           "D"
          ],
          [
           "B"
          ],
          [
           "A"
          ],
          [
           "E"
          ],
          [
           "A"
          ],
          [
           "A"
          ],
          [
           "A"
          ],
          [
           "B"
          ],
          [
           "C"
          ],
          [
           "A"
          ],
          [
           "C"
          ],
          [
           "C"
          ],
          [
           "B"
          ],
          [
           "B"
          ],
          [
           "G"
          ],
          [
           "A"
          ],
          [
           "B"
          ],
          [
           "D"
          ],
          [
           "B"
          ],
          [
           "B"
          ],
          [
           "D"
          ],
          [
           "B"
          ],
          [
           "C"
          ],
          [
           "B"
          ],
          [
           "F"
          ],
          [
           "B"
          ],
          [
           "D"
          ],
          [
           "B"
          ],
          [
           "C"
          ],
          [
           "B"
          ],
          [
           "B"
          ],
          [
           "A"
          ],
          [
           "A"
          ],
          [
           "A"
          ],
          [
           "B"
          ],
          [
           "D"
          ],
          [
           "C"
          ],
          [
           "B"
          ],
          [
           "D"
          ],
          [
           "B"
          ],
          [
           "B"
          ],
          [
           "B"
          ],
          [
           "D"
          ],
          [
           "F"
          ],
          [
           "D"
          ],
          [
           "B"
          ],
          [
           "C"
          ],
          [
           "B"
          ],
          [
           "E"
          ],
          [
           "B"
          ],
          [
           "C"
          ],
          [
           "G"
          ],
          [
           "C"
          ],
          [
           "D"
          ],
          [
           "A"
          ],
          [
           "B"
          ],
          [
           "A"
          ],
          [
           "B"
          ],
          [
           "B"
          ],
          [
           "C"
          ],
          [
           "C"
          ],
          [
           "D"
          ],
          [
           "B"
          ],
          [
           "A"
          ],
          [
           "B"
          ],
          [
           "F"
          ],
          [
           "E"
          ],
          [
           "C"
          ],
          [
           "C"
          ],
          [
           "C "
          ],
          [
           "B"
          ],
          [
           "G"
          ],
          [
           "D"
          ],
          [
           "D"
          ],
          [
           "A"
          ],
          [
           "B"
          ],
          [
           "C"
          ],
          [
           "A"
          ],
          [
           "D"
          ],
          [
           "D"
          ],
          [
           "C"
          ],
          [
           "C"
          ],
          [
           "F"
          ],
          [
           "E"
          ],
          [
           "A"
          ],
          [
           "D"
          ],
          [
           "A"
          ],
          [
           "C"
          ],
          [
           "D"
          ],
          [
           "D"
          ],
          [
           "D"
          ],
          [
           "D"
          ],
          [
           "B"
          ],
          [
           "D"
          ],
          [
           "B"
          ],
          [
           "B"
          ],
          [
           "A"
          ],
          [
           "A"
          ],
          [
           "D"
          ],
          [
           "B"
          ],
          [
           "D"
          ],
          [
           "D"
          ],
          [
           "A/B"
          ],
          [
           "B"
          ],
          [
           "B"
          ],
          [
           "C"
          ],
          [
           "C"
          ],
          [
           "D"
          ],
          [
           "A"
          ],
          [
           "D"
          ],
          [
           "A"
          ],
          [
           "E"
          ],
          [
           "C"
          ],
          [
           "B"
          ],
          [
           "B"
          ],
          [
           "C"
          ],
          [
           "C"
          ],
          [
           "B"
          ],
          [
           "B"
          ],
          [
           "B"
          ],
          [
           "D"
          ],
          [
           "B"
          ],
          [
           "D"
          ],
          [
           "E"
          ],
          [
           "F"
          ],
          [
           "A"
          ],
          [
           "F"
          ],
          [
           "D"
          ],
          [
           "C"
          ],
          [
           "D"
          ],
          [
           "C"
          ],
          [
           "C"
          ],
          [
           "C"
          ],
          [
           "D"
          ],
          [
           "C"
          ],
          [
           "D"
          ],
          [
           "A"
          ],
          [
           "C"
          ],
          [
           "C"
          ],
          [
           "C"
          ],
          [
           "C"
          ],
          [
           "D"
          ],
          [
           "D"
          ],
          [
           "B"
          ],
          [
           "A"
          ],
          [
           "C"
          ],
          [
           "E"
          ],
          [
           "A"
          ],
          [
           "C"
          ],
          [
           "B"
          ],
          [
           "C"
          ],
          [
           "A"
          ],
          [
           "A"
          ],
          [
           "A"
          ],
          [
           "A"
          ],
          [
           "G"
          ],
          [
           "D"
          ],
          [
           "B"
          ],
          [
           "E"
          ],
          [
           "A"
          ],
          [
           "B"
          ],
          [
           "A"
          ],
          [
           "A"
          ],
          [
           "A"
          ],
          [
           "B"
          ],
          [
           "B"
          ],
          [
           "F"
          ],
          [
           "B"
          ],
          [
           "C"
          ],
          [
           "E"
          ],
          [
           "E/A"
          ],
          [
           "E/A"
          ],
          [
           "C"
          ]
         ],
         "domain": {
          "x": [
           0,
           1
          ],
          "y": [
           0,
           1
          ]
         },
         "hole": 0.5,
         "hovertemplate": "Bldg #=%{label}<br>Deaths=%{value}<br>Side=%{customdata[0]}<extra></extra>",
         "labels": [
          "twelve",
          "seventeen",
          "ten",
          "seven",
          "nine",
          "eleven",
          "fifteen",
          "fifteen",
          "twenty",
          "seven",
          "four",
          "eleven",
          "eleven",
          "sixteen",
          "sixteen",
          "three",
          "twelve",
          "eleven",
          "twenty-four",
          "eleven",
          "one",
          "three",
          "eight",
          "eleven",
          "sixteen",
          "seven",
          "four",
          "seven",
          "one",
          "seven",
          "twenty-four",
          "twenty-one",
          "twenty-one",
          "twenty-one",
          "one",
          "eleven",
          "sixteen",
          "one",
          "one",
          "four",
          "two",
          "twenty-one",
          "seven",
          "twenty-three",
          "nine",
          "fifteen",
          "fifteen",
          "one",
          "four",
          "twelve",
          "sixteen",
          "nine",
          "twenty-one",
          "four",
          "twenty-one",
          "eleven",
          "fifteen",
          "twenty",
          "eleven",
          "eleven",
          "eleven",
          "one",
          "twelve",
          "fourteen",
          "two",
          "four",
          "eleven",
          "sixteen",
          "seventeen",
          "twenty",
          "twenty-one",
          "twenty-four",
          "twenty-seven",
          "fifteen",
          "sixteen",
          "twenty-four",
          "seven",
          "twelve",
          "fourteen",
          "one",
          "twelve",
          "fifteen",
          "twenty",
          "one",
          "ten",
          "eleven",
          "twelve",
          "nine",
          "twenty",
          "ten",
          "twelve",
          "twelve",
          "fourteen",
          "fourteen",
          "thirty",
          "thirty",
          "twelve",
          "fourteen",
          "twenty",
          "twenty-four",
          "nine",
          "twenty",
          "twenty",
          "twenty-seven",
          "one",
          "twelve",
          "twelve",
          "sixteen",
          "two",
          "three",
          "ten",
          "twelve",
          "fourteen",
          "three",
          "four",
          "ten",
          "two",
          "thirty",
          "fifteen",
          "seventeen",
          "seventeen",
          "eleven",
          "eleven",
          "fifteen",
          "fifteen",
          "sixteen",
          "twenty-one",
          "three",
          "thirty",
          "nine",
          "eleven",
          "fourteen",
          "twenty-six",
          "twelve",
          "three",
          "three",
          "seven",
          "twelve",
          "fifteen",
          "twenty-seven",
          "seventeen",
          "twenty-four",
          "two",
          "three",
          "fifteen",
          "sixteen",
          "twenty-six",
          "one",
          "eleven",
          "twelve",
          "twenty",
          "twenty",
          "twenty-seven",
          "eleven",
          "eleven",
          "ten",
          "twelve",
          "twenty-three",
          "twenty-seven",
          "eleven",
          "fourteen",
          "two",
          "eleven",
          "eleven",
          "fourteen",
          "one",
          "nine",
          "sixteen",
          "sixteen",
          "seventeen",
          "twenty",
          "one",
          "twelve",
          "thirty",
          "two",
          "fifteen",
          "sixteen",
          "twenty",
          "twelve",
          "three",
          "twelve",
          "twelve",
          "eleven",
          "three",
          "three",
          "twelve",
          "twenty",
          "eleven",
          "twelve",
          "one",
          "ten",
          "twelve",
          "twenty-four",
          "twelve",
          "twenty-three",
          "eleven",
          "twelve",
          "seven",
          "seven",
          "seven",
          "twelve",
          "thirty",
          "two",
          "twenty-one",
          "fifteen",
          "three",
          "three",
          "three",
          "seven",
          "twelve",
          "twenty-seven",
          "eleven",
          "thirty",
          "twenty",
          "twenty",
          "twenty-one",
          "twelve",
          "two",
          "thirty",
          "sixteen",
          "twenty",
          "seven",
          "fifteen",
          "sixteen",
          "eleven",
          "ten",
          "eleven",
          "eleven",
          "one",
          "fourteen",
          "fourteen",
          "fourteen",
          "fourteen",
          "twelve",
          "fourteen",
          "seven",
          "seven",
          "seven",
          "seven",
          "thirteen"
         ],
         "legendgroup": "",
         "marker": {
          "colors": [
           "rgb(103,0,31)",
           "rgb(178,24,43)",
           "rgb(214,96,77)",
           "rgb(244,165,130)",
           "rgb(214,96,77)",
           "rgb(244,165,130)",
           "rgb(244,165,130)",
           "rgb(244,165,130)",
           "rgb(253,219,199)",
           "rgb(244,165,130)",
           "rgb(178,24,43)",
           "rgb(214,96,77)",
           "rgb(178,24,43)",
           "rgb(253,219,199)",
           "rgb(214,96,77)",
           "rgb(178,24,43)",
           "rgb(178,24,43)",
           "rgb(178,24,43)",
           "rgb(178,24,43)",
           "rgb(244,165,130)",
           "rgb(244,165,130)",
           "rgb(244,165,130)",
           "rgb(178,24,43)",
           "rgb(253,219,199)",
           "rgb(214,96,77)",
           "rgb(214,96,77)",
           "rgb(253,219,199)",
           "rgb(178,24,43)",
           "rgb(214,96,77)",
           "rgb(103,0,31)",
           "rgb(178,24,43)",
           "rgb(253,219,199)",
           "rgb(253,219,199)",
           "rgb(214,96,77)",
           "rgb(244,165,130)",
           "rgb(214,96,77)",
           "rgb(214,96,77)",
           "rgb(253,219,199)",
           "rgb(244,165,130)",
           "rgb(178,24,43)",
           "rgb(214,96,77)",
           "rgb(253,219,199)",
           "rgb(178,24,43)",
           "rgb(244,165,130)",
           "rgb(244,165,130)",
           "rgb(247,247,247)",
           "rgb(103,0,31)",
           "rgb(178,24,43)",
           "rgb(253,219,199)",
           "rgb(247,247,247)",
           "rgb(253,219,199)",
           "rgb(214,96,77)",
           "rgb(103,0,31)",
           "rgb(244,165,130)",
           "rgb(103,0,31)",
           "rgb(244,165,130)",
           "rgb(247,247,247)",
           "rgb(244,165,130)",
           "rgb(214,96,77)",
           "rgb(244,165,130)",
           "rgb(178,24,43)",
           "rgb(253,219,199)",
           "rgb(178,24,43)",
           "rgb(244,165,130)",
           "rgb(244,165,130)",
           "rgb(178,24,43)",
           "rgb(244,165,130)",
           "rgb(214,96,77)",
           "rgb(244,165,130)",
           "rgb(253,219,199)",
           "rgb(103,0,31)",
           "rgb(253,219,199)",
           "rgb(253,219,199)",
           "rgb(253,219,199)",
           "rgb(244,165,130)",
           "rgb(178,24,43)",
           "rgb(253,219,199)",
           "rgb(178,24,43)",
           "rgb(178,24,43)",
           "rgb(244,165,130)",
           "rgb(244,165,130)",
           "rgb(209,229,240)",
           "rgb(253,219,199)",
           "rgb(244,165,130)",
           "rgb(214,96,77)",
           "rgb(244,165,130)",
           "rgb(244,165,130)",
           "rgb(214,96,77)",
           "rgb(244,165,130)",
           "rgb(178,24,43)",
           "rgb(244,165,130)",
           "rgb(247,247,247)",
           "rgb(244,165,130)",
           "rgb(214,96,77)",
           "rgb(244,165,130)",
           "rgb(178,24,43)",
           "rgb(244,165,130)",
           "rgb(244,165,130)",
           "rgb(253,219,199)",
           "rgb(253,219,199)",
           "rgb(253,219,199)",
           "rgb(244,165,130)",
           "rgb(214,96,77)",
           "rgb(178,24,43)",
           "rgb(244,165,130)",
           "rgb(214,96,77)",
           "rgb(244,165,130)",
           "rgb(244,165,130)",
           "rgb(244,165,130)",
           "rgb(214,96,77)",
           "rgb(247,247,247)",
           "rgb(214,96,77)",
           "rgb(244,165,130)",
           "rgb(178,24,43)",
           "rgb(244,165,130)",
           "rgb(103,0,31)",
           "rgb(244,165,130)",
           "rgb(178,24,43)",
           "rgb(209,229,240)",
           "rgb(178,24,43)",
           "rgb(214,96,77)",
           "rgb(253,219,199)",
           "rgb(244,165,130)",
           "rgb(253,219,199)",
           "rgb(244,165,130)",
           "rgb(244,165,130)",
           "rgb(178,24,43)",
           "rgb(178,24,43)",
           "rgb(214,96,77)",
           "rgb(244,165,130)",
           "rgb(253,219,199)",
           "rgb(244,165,130)",
           "rgb(247,247,247)",
           "rgb(103,0,31)",
           "rgb(178,24,43)",
           "rgb(178,24,43)",
           "rgb(146,197,222)",
           "rgb(244,165,130)",
           "rgb(209,229,240)",
           "rgb(214,96,77)",
           "rgb(214,96,77)",
           "rgb(253,219,199)",
           "rgb(244,165,130)",
           "rgb(178,24,43)",
           "rgb(253,219,199)",
           "rgb(214,96,77)",
           "rgb(214,96,77)",
           "rgb(178,24,43)",
           "rgb(178,24,43)",
           "rgb(247,247,247)",
           "rgb(103,0,31)",
           "rgb(253,219,199)",
           "rgb(214,96,77)",
           "rgb(253,219,199)",
           "rgb(178,24,43)",
           "rgb(214,96,77)",
           "rgb(214,96,77)",
           "rgb(214,96,77)",
           "rgb(214,96,77)",
           "rgb(244,165,130)",
           "rgb(214,96,77)",
           "rgb(244,165,130)",
           "rgb(244,165,130)",
           "rgb(253,219,199)",
           "rgb(253,219,199)",
           "rgb(214,96,77)",
           "rgb(244,165,130)",
           "rgb(214,96,77)",
           "rgb(214,96,77)",
           "rgb(67,147,195)",
           "rgb(244,165,130)",
           "rgb(244,165,130)",
           "rgb(178,24,43)",
           "rgb(178,24,43)",
           "rgb(214,96,77)",
           "rgb(253,219,199)",
           "rgb(214,96,77)",
           "rgb(253,219,199)",
           "rgb(103,0,31)",
           "rgb(178,24,43)",
           "rgb(244,165,130)",
           "rgb(244,165,130)",
           "rgb(178,24,43)",
           "rgb(178,24,43)",
           "rgb(244,165,130)",
           "rgb(244,165,130)",
           "rgb(244,165,130)",
           "rgb(214,96,77)",
           "rgb(244,165,130)",
           "rgb(214,96,77)",
           "rgb(103,0,31)",
           "rgb(247,247,247)",
           "rgb(253,219,199)",
           "rgb(247,247,247)",
           "rgb(214,96,77)",
           "rgb(178,24,43)",
           "rgb(214,96,77)",
           "rgb(178,24,43)",
           "rgb(178,24,43)",
           "rgb(178,24,43)",
           "rgb(214,96,77)",
           "rgb(178,24,43)",
           "rgb(214,96,77)",
           "rgb(253,219,199)",
           "rgb(178,24,43)",
           "rgb(178,24,43)",
           "rgb(178,24,43)",
           "rgb(178,24,43)",
           "rgb(214,96,77)",
           "rgb(214,96,77)",
           "rgb(244,165,130)",
           "rgb(253,219,199)",
           "rgb(178,24,43)",
           "rgb(103,0,31)",
           "rgb(253,219,199)",
           "rgb(178,24,43)",
           "rgb(244,165,130)",
           "rgb(178,24,43)",
           "rgb(253,219,199)",
           "rgb(253,219,199)",
           "rgb(253,219,199)",
           "rgb(253,219,199)",
           "rgb(209,229,240)",
           "rgb(214,96,77)",
           "rgb(244,165,130)",
           "rgb(103,0,31)",
           "rgb(253,219,199)",
           "rgb(244,165,130)",
           "rgb(253,219,199)",
           "rgb(253,219,199)",
           "rgb(253,219,199)",
           "rgb(244,165,130)",
           "rgb(244,165,130)",
           "rgb(247,247,247)",
           "rgb(244,165,130)",
           "rgb(178,24,43)",
           "rgb(103,0,31)",
           "rgb(33,102,172)",
           "rgb(33,102,172)",
           "rgb(178,24,43)"
          ]
         },
         "name": "",
         "showlegend": true,
         "type": "pie",
         "values": [
          1,
          1,
          1,
          1,
          1,
          1,
          1,
          1,
          1,
          1,
          1,
          1,
          1,
          1,
          1,
          1,
          1,
          1,
          1,
          1,
          1,
          1,
          1,
          1,
          1,
          1,
          1,
          1,
          1,
          1,
          1,
          1,
          1,
          1,
          1,
          1,
          1,
          1,
          1,
          1,
          1,
          1,
          1,
          1,
          1,
          1,
          1,
          1,
          1,
          1,
          1,
          1,
          1,
          1,
          1,
          1,
          1,
          1,
          1,
          1,
          1,
          1,
          1,
          1,
          1,
          1,
          1,
          1,
          1,
          1,
          1,
          1,
          1,
          1,
          1,
          1,
          1,
          1,
          1,
          1,
          1,
          1,
          1,
          1,
          1,
          1,
          1,
          1,
          1,
          1,
          1,
          1,
          1,
          1,
          1,
          1,
          1,
          1,
          1,
          1,
          1,
          1,
          1,
          1,
          1,
          1,
          1,
          1,
          1,
          1,
          1,
          1,
          1,
          1,
          1,
          1,
          1,
          1,
          1,
          1,
          1,
          1,
          1,
          1,
          1,
          1,
          1,
          1,
          1,
          1,
          1,
          1,
          1,
          1,
          1,
          1,
          1,
          1,
          1,
          1,
          1,
          1,
          1,
          1,
          1,
          1,
          1,
          1,
          1,
          1,
          1,
          1,
          1,
          1,
          1,
          1,
          1,
          1,
          1,
          1,
          1,
          1,
          1,
          1,
          1,
          1,
          1,
          1,
          1,
          1,
          1,
          1,
          1,
          1,
          1,
          1,
          1,
          1,
          1,
          1,
          1,
          1,
          1,
          1,
          1,
          1,
          1,
          1,
          1,
          1,
          1,
          1,
          1,
          1,
          1,
          1,
          1,
          1,
          1,
          1,
          1,
          1,
          1,
          1,
          1,
          1,
          1,
          1,
          1,
          1,
          1,
          1,
          1,
          1,
          1,
          1,
          1,
          1,
          1,
          1,
          1,
          1,
          1,
          1,
          1,
          1,
          1,
          1,
          1,
          1,
          1,
          1,
          1,
          1,
          1,
          1,
          1,
          1,
          1,
          1
         ]
        }
       ],
       "layout": {
        "legend": {
         "tracegroupgap": 0
        },
        "margin": {
         "t": 60
        },
        "piecolorway": [
         "rgb(103,0,31)",
         "rgb(178,24,43)",
         "rgb(214,96,77)",
         "rgb(244,165,130)",
         "rgb(253,219,199)",
         "rgb(247,247,247)",
         "rgb(209,229,240)",
         "rgb(146,197,222)",
         "rgb(67,147,195)",
         "rgb(33,102,172)",
         "rgb(5,48,97)"
        ],
        "template": {
         "data": {
          "bar": [
           {
            "error_x": {
             "color": "#2a3f5f"
            },
            "error_y": {
             "color": "#2a3f5f"
            },
            "marker": {
             "line": {
              "color": "#E5ECF6",
              "width": 0.5
             },
             "pattern": {
              "fillmode": "overlay",
              "size": 10,
              "solidity": 0.2
             }
            },
            "type": "bar"
           }
          ],
          "barpolar": [
           {
            "marker": {
             "line": {
              "color": "#E5ECF6",
              "width": 0.5
             },
             "pattern": {
              "fillmode": "overlay",
              "size": 10,
              "solidity": 0.2
             }
            },
            "type": "barpolar"
           }
          ],
          "carpet": [
           {
            "aaxis": {
             "endlinecolor": "#2a3f5f",
             "gridcolor": "white",
             "linecolor": "white",
             "minorgridcolor": "white",
             "startlinecolor": "#2a3f5f"
            },
            "baxis": {
             "endlinecolor": "#2a3f5f",
             "gridcolor": "white",
             "linecolor": "white",
             "minorgridcolor": "white",
             "startlinecolor": "#2a3f5f"
            },
            "type": "carpet"
           }
          ],
          "choropleth": [
           {
            "colorbar": {
             "outlinewidth": 0,
             "ticks": ""
            },
            "type": "choropleth"
           }
          ],
          "contour": [
           {
            "colorbar": {
             "outlinewidth": 0,
             "ticks": ""
            },
            "colorscale": [
             [
              0,
              "#0d0887"
             ],
             [
              0.1111111111111111,
              "#46039f"
             ],
             [
              0.2222222222222222,
              "#7201a8"
             ],
             [
              0.3333333333333333,
              "#9c179e"
             ],
             [
              0.4444444444444444,
              "#bd3786"
             ],
             [
              0.5555555555555556,
              "#d8576b"
             ],
             [
              0.6666666666666666,
              "#ed7953"
             ],
             [
              0.7777777777777778,
              "#fb9f3a"
             ],
             [
              0.8888888888888888,
              "#fdca26"
             ],
             [
              1,
              "#f0f921"
             ]
            ],
            "type": "contour"
           }
          ],
          "contourcarpet": [
           {
            "colorbar": {
             "outlinewidth": 0,
             "ticks": ""
            },
            "type": "contourcarpet"
           }
          ],
          "heatmap": [
           {
            "colorbar": {
             "outlinewidth": 0,
             "ticks": ""
            },
            "colorscale": [
             [
              0,
              "#0d0887"
             ],
             [
              0.1111111111111111,
              "#46039f"
             ],
             [
              0.2222222222222222,
              "#7201a8"
             ],
             [
              0.3333333333333333,
              "#9c179e"
             ],
             [
              0.4444444444444444,
              "#bd3786"
             ],
             [
              0.5555555555555556,
              "#d8576b"
             ],
             [
              0.6666666666666666,
              "#ed7953"
             ],
             [
              0.7777777777777778,
              "#fb9f3a"
             ],
             [
              0.8888888888888888,
              "#fdca26"
             ],
             [
              1,
              "#f0f921"
             ]
            ],
            "type": "heatmap"
           }
          ],
          "heatmapgl": [
           {
            "colorbar": {
             "outlinewidth": 0,
             "ticks": ""
            },
            "colorscale": [
             [
              0,
              "#0d0887"
             ],
             [
              0.1111111111111111,
              "#46039f"
             ],
             [
              0.2222222222222222,
              "#7201a8"
             ],
             [
              0.3333333333333333,
              "#9c179e"
             ],
             [
              0.4444444444444444,
              "#bd3786"
             ],
             [
              0.5555555555555556,
              "#d8576b"
             ],
             [
              0.6666666666666666,
              "#ed7953"
             ],
             [
              0.7777777777777778,
              "#fb9f3a"
             ],
             [
              0.8888888888888888,
              "#fdca26"
             ],
             [
              1,
              "#f0f921"
             ]
            ],
            "type": "heatmapgl"
           }
          ],
          "histogram": [
           {
            "marker": {
             "pattern": {
              "fillmode": "overlay",
              "size": 10,
              "solidity": 0.2
             }
            },
            "type": "histogram"
           }
          ],
          "histogram2d": [
           {
            "colorbar": {
             "outlinewidth": 0,
             "ticks": ""
            },
            "colorscale": [
             [
              0,
              "#0d0887"
             ],
             [
              0.1111111111111111,
              "#46039f"
             ],
             [
              0.2222222222222222,
              "#7201a8"
             ],
             [
              0.3333333333333333,
              "#9c179e"
             ],
             [
              0.4444444444444444,
              "#bd3786"
             ],
             [
              0.5555555555555556,
              "#d8576b"
             ],
             [
              0.6666666666666666,
              "#ed7953"
             ],
             [
              0.7777777777777778,
              "#fb9f3a"
             ],
             [
              0.8888888888888888,
              "#fdca26"
             ],
             [
              1,
              "#f0f921"
             ]
            ],
            "type": "histogram2d"
           }
          ],
          "histogram2dcontour": [
           {
            "colorbar": {
             "outlinewidth": 0,
             "ticks": ""
            },
            "colorscale": [
             [
              0,
              "#0d0887"
             ],
             [
              0.1111111111111111,
              "#46039f"
             ],
             [
              0.2222222222222222,
              "#7201a8"
             ],
             [
              0.3333333333333333,
              "#9c179e"
             ],
             [
              0.4444444444444444,
              "#bd3786"
             ],
             [
              0.5555555555555556,
              "#d8576b"
             ],
             [
              0.6666666666666666,
              "#ed7953"
             ],
             [
              0.7777777777777778,
              "#fb9f3a"
             ],
             [
              0.8888888888888888,
              "#fdca26"
             ],
             [
              1,
              "#f0f921"
             ]
            ],
            "type": "histogram2dcontour"
           }
          ],
          "mesh3d": [
           {
            "colorbar": {
             "outlinewidth": 0,
             "ticks": ""
            },
            "type": "mesh3d"
           }
          ],
          "parcoords": [
           {
            "line": {
             "colorbar": {
              "outlinewidth": 0,
              "ticks": ""
             }
            },
            "type": "parcoords"
           }
          ],
          "pie": [
           {
            "automargin": true,
            "type": "pie"
           }
          ],
          "scatter": [
           {
            "fillpattern": {
             "fillmode": "overlay",
             "size": 10,
             "solidity": 0.2
            },
            "type": "scatter"
           }
          ],
          "scatter3d": [
           {
            "line": {
             "colorbar": {
              "outlinewidth": 0,
              "ticks": ""
             }
            },
            "marker": {
             "colorbar": {
              "outlinewidth": 0,
              "ticks": ""
             }
            },
            "type": "scatter3d"
           }
          ],
          "scattercarpet": [
           {
            "marker": {
             "colorbar": {
              "outlinewidth": 0,
              "ticks": ""
             }
            },
            "type": "scattercarpet"
           }
          ],
          "scattergeo": [
           {
            "marker": {
             "colorbar": {
              "outlinewidth": 0,
              "ticks": ""
             }
            },
            "type": "scattergeo"
           }
          ],
          "scattergl": [
           {
            "marker": {
             "colorbar": {
              "outlinewidth": 0,
              "ticks": ""
             }
            },
            "type": "scattergl"
           }
          ],
          "scattermapbox": [
           {
            "marker": {
             "colorbar": {
              "outlinewidth": 0,
              "ticks": ""
             }
            },
            "type": "scattermapbox"
           }
          ],
          "scatterpolar": [
           {
            "marker": {
             "colorbar": {
              "outlinewidth": 0,
              "ticks": ""
             }
            },
            "type": "scatterpolar"
           }
          ],
          "scatterpolargl": [
           {
            "marker": {
             "colorbar": {
              "outlinewidth": 0,
              "ticks": ""
             }
            },
            "type": "scatterpolargl"
           }
          ],
          "scatterternary": [
           {
            "marker": {
             "colorbar": {
              "outlinewidth": 0,
              "ticks": ""
             }
            },
            "type": "scatterternary"
           }
          ],
          "surface": [
           {
            "colorbar": {
             "outlinewidth": 0,
             "ticks": ""
            },
            "colorscale": [
             [
              0,
              "#0d0887"
             ],
             [
              0.1111111111111111,
              "#46039f"
             ],
             [
              0.2222222222222222,
              "#7201a8"
             ],
             [
              0.3333333333333333,
              "#9c179e"
             ],
             [
              0.4444444444444444,
              "#bd3786"
             ],
             [
              0.5555555555555556,
              "#d8576b"
             ],
             [
              0.6666666666666666,
              "#ed7953"
             ],
             [
              0.7777777777777778,
              "#fb9f3a"
             ],
             [
              0.8888888888888888,
              "#fdca26"
             ],
             [
              1,
              "#f0f921"
             ]
            ],
            "type": "surface"
           }
          ],
          "table": [
           {
            "cells": {
             "fill": {
              "color": "#EBF0F8"
             },
             "line": {
              "color": "white"
             }
            },
            "header": {
             "fill": {
              "color": "#C8D4E3"
             },
             "line": {
              "color": "white"
             }
            },
            "type": "table"
           }
          ]
         },
         "layout": {
          "annotationdefaults": {
           "arrowcolor": "#2a3f5f",
           "arrowhead": 0,
           "arrowwidth": 1
          },
          "autotypenumbers": "strict",
          "coloraxis": {
           "colorbar": {
            "outlinewidth": 0,
            "ticks": ""
           }
          },
          "colorscale": {
           "diverging": [
            [
             0,
             "#8e0152"
            ],
            [
             0.1,
             "#c51b7d"
            ],
            [
             0.2,
             "#de77ae"
            ],
            [
             0.3,
             "#f1b6da"
            ],
            [
             0.4,
             "#fde0ef"
            ],
            [
             0.5,
             "#f7f7f7"
            ],
            [
             0.6,
             "#e6f5d0"
            ],
            [
             0.7,
             "#b8e186"
            ],
            [
             0.8,
             "#7fbc41"
            ],
            [
             0.9,
             "#4d9221"
            ],
            [
             1,
             "#276419"
            ]
           ],
           "sequential": [
            [
             0,
             "#0d0887"
            ],
            [
             0.1111111111111111,
             "#46039f"
            ],
            [
             0.2222222222222222,
             "#7201a8"
            ],
            [
             0.3333333333333333,
             "#9c179e"
            ],
            [
             0.4444444444444444,
             "#bd3786"
            ],
            [
             0.5555555555555556,
             "#d8576b"
            ],
            [
             0.6666666666666666,
             "#ed7953"
            ],
            [
             0.7777777777777778,
             "#fb9f3a"
            ],
            [
             0.8888888888888888,
             "#fdca26"
            ],
            [
             1,
             "#f0f921"
            ]
           ],
           "sequentialminus": [
            [
             0,
             "#0d0887"
            ],
            [
             0.1111111111111111,
             "#46039f"
            ],
            [
             0.2222222222222222,
             "#7201a8"
            ],
            [
             0.3333333333333333,
             "#9c179e"
            ],
            [
             0.4444444444444444,
             "#bd3786"
            ],
            [
             0.5555555555555556,
             "#d8576b"
            ],
            [
             0.6666666666666666,
             "#ed7953"
            ],
            [
             0.7777777777777778,
             "#fb9f3a"
            ],
            [
             0.8888888888888888,
             "#fdca26"
            ],
            [
             1,
             "#f0f921"
            ]
           ]
          },
          "colorway": [
           "#636efa",
           "#EF553B",
           "#00cc96",
           "#ab63fa",
           "#FFA15A",
           "#19d3f3",
           "#FF6692",
           "#B6E880",
           "#FF97FF",
           "#FECB52"
          ],
          "font": {
           "color": "#2a3f5f"
          },
          "geo": {
           "bgcolor": "white",
           "lakecolor": "white",
           "landcolor": "#E5ECF6",
           "showlakes": true,
           "showland": true,
           "subunitcolor": "white"
          },
          "hoverlabel": {
           "align": "left"
          },
          "hovermode": "closest",
          "mapbox": {
           "style": "light"
          },
          "paper_bgcolor": "white",
          "plot_bgcolor": "#E5ECF6",
          "polar": {
           "angularaxis": {
            "gridcolor": "white",
            "linecolor": "white",
            "ticks": ""
           },
           "bgcolor": "#E5ECF6",
           "radialaxis": {
            "gridcolor": "white",
            "linecolor": "white",
            "ticks": ""
           }
          },
          "scene": {
           "xaxis": {
            "backgroundcolor": "#E5ECF6",
            "gridcolor": "white",
            "gridwidth": 2,
            "linecolor": "white",
            "showbackground": true,
            "ticks": "",
            "zerolinecolor": "white"
           },
           "yaxis": {
            "backgroundcolor": "#E5ECF6",
            "gridcolor": "white",
            "gridwidth": 2,
            "linecolor": "white",
            "showbackground": true,
            "ticks": "",
            "zerolinecolor": "white"
           },
           "zaxis": {
            "backgroundcolor": "#E5ECF6",
            "gridcolor": "white",
            "gridwidth": 2,
            "linecolor": "white",
            "showbackground": true,
            "ticks": "",
            "zerolinecolor": "white"
           }
          },
          "shapedefaults": {
           "line": {
            "color": "#2a3f5f"
           }
          },
          "ternary": {
           "aaxis": {
            "gridcolor": "white",
            "linecolor": "white",
            "ticks": ""
           },
           "baxis": {
            "gridcolor": "white",
            "linecolor": "white",
            "ticks": ""
           },
           "bgcolor": "#E5ECF6",
           "caxis": {
            "gridcolor": "white",
            "linecolor": "white",
            "ticks": ""
           }
          },
          "title": {
           "x": 0.05
          },
          "xaxis": {
           "automargin": true,
           "gridcolor": "white",
           "linecolor": "white",
           "ticks": "",
           "title": {
            "standoff": 15
           },
           "zerolinecolor": "white",
           "zerolinewidth": 2
          },
          "yaxis": {
           "automargin": true,
           "gridcolor": "white",
           "linecolor": "white",
           "ticks": "",
           "title": {
            "standoff": 15
           },
           "zerolinecolor": "white",
           "zerolinewidth": 2
          }
         }
        }
       }
      }
     },
     "metadata": {},
     "output_type": "display_data"
    }
   ],
   "source": [
    "import plotly.express as px\n",
    "df = pd.read_csv(\"bird-window-collision-death.csv\")\n",
    "fig = px.pie(df, values='Deaths', names='Bldg #', color='Side', hole=0.5, color_discrete_sequence=px.colors.sequential.RdBu)\n",
    "fig.show()"
   ]
  },
  {
   "cell_type": "code",
   "execution_count": 29,
   "metadata": {},
   "outputs": [
    {
     "data": {
      "application/vnd.plotly.v1+json": {
       "config": {
        "plotlyServerURL": "https://plot.ly"
       },
       "data": [
        {
         "customdata": [
          [
           "E"
          ],
          [
           "C"
          ],
          [
           "D"
          ],
          [
           "B"
          ],
          [
           "D"
          ],
          [
           "B"
          ],
          [
           "B"
          ],
          [
           "B"
          ],
          [
           "A"
          ],
          [
           "B"
          ],
          [
           "C"
          ],
          [
           "D"
          ],
          [
           "C"
          ],
          [
           "A"
          ],
          [
           "D"
          ],
          [
           "C"
          ],
          [
           "C"
          ],
          [
           "C"
          ],
          [
           "C"
          ],
          [
           "B"
          ],
          [
           "B"
          ],
          [
           "B"
          ],
          [
           "C"
          ],
          [
           "A"
          ],
          [
           "D"
          ],
          [
           "D"
          ],
          [
           "A"
          ],
          [
           "C"
          ],
          [
           "D"
          ],
          [
           "E"
          ],
          [
           "C"
          ],
          [
           "A"
          ],
          [
           "A"
          ],
          [
           "D"
          ],
          [
           "B"
          ],
          [
           "D"
          ],
          [
           "D"
          ],
          [
           "A"
          ],
          [
           "B"
          ],
          [
           "C"
          ],
          [
           "D"
          ],
          [
           "A"
          ],
          [
           "C"
          ],
          [
           "B"
          ],
          [
           "B"
          ],
          [
           "F"
          ],
          [
           "E"
          ],
          [
           "C"
          ],
          [
           "A"
          ],
          [
           "F"
          ],
          [
           "A"
          ],
          [
           "D"
          ],
          [
           "E"
          ],
          [
           "B"
          ],
          [
           "E"
          ],
          [
           "B"
          ],
          [
           "F"
          ],
          [
           "B"
          ],
          [
           "D"
          ],
          [
           "B"
          ],
          [
           "C"
          ],
          [
           "A"
          ],
          [
           "C"
          ],
          [
           "B"
          ],
          [
           "B"
          ],
          [
           "C"
          ],
          [
           "B"
          ],
          [
           "D"
          ],
          [
           "B"
          ],
          [
           "A"
          ],
          [
           "E"
          ],
          [
           "A"
          ],
          [
           "A"
          ],
          [
           "A"
          ],
          [
           "B"
          ],
          [
           "C"
          ],
          [
           "A"
          ],
          [
           "C"
          ],
          [
           "C"
          ],
          [
           "B"
          ],
          [
           "B"
          ],
          [
           "G"
          ],
          [
           "A"
          ],
          [
           "B"
          ],
          [
           "D"
          ],
          [
           "B"
          ],
          [
           "B"
          ],
          [
           "D"
          ],
          [
           "B"
          ],
          [
           "C"
          ],
          [
           "B"
          ],
          [
           "F"
          ],
          [
           "B"
          ],
          [
           "D"
          ],
          [
           "B"
          ],
          [
           "C"
          ],
          [
           "B"
          ],
          [
           "B"
          ],
          [
           "A"
          ],
          [
           "A"
          ],
          [
           "A"
          ],
          [
           "B"
          ],
          [
           "D"
          ],
          [
           "C"
          ],
          [
           "B"
          ],
          [
           "D"
          ],
          [
           "B"
          ],
          [
           "B"
          ],
          [
           "B"
          ],
          [
           "D"
          ],
          [
           "F"
          ],
          [
           "D"
          ],
          [
           "B"
          ],
          [
           "C"
          ],
          [
           "B"
          ],
          [
           "E"
          ],
          [
           "B"
          ],
          [
           "C"
          ],
          [
           "G"
          ],
          [
           "C"
          ],
          [
           "D"
          ],
          [
           "A"
          ],
          [
           "B"
          ],
          [
           "A"
          ],
          [
           "B"
          ],
          [
           "B"
          ],
          [
           "C"
          ],
          [
           "C"
          ],
          [
           "D"
          ],
          [
           "B"
          ],
          [
           "A"
          ],
          [
           "B"
          ],
          [
           "F"
          ],
          [
           "E"
          ],
          [
           "C"
          ],
          [
           "C"
          ],
          [
           "C "
          ],
          [
           "B"
          ],
          [
           "G"
          ],
          [
           "D"
          ],
          [
           "D"
          ],
          [
           "A"
          ],
          [
           "B"
          ],
          [
           "C"
          ],
          [
           "A"
          ],
          [
           "D"
          ],
          [
           "D"
          ],
          [
           "C"
          ],
          [
           "C"
          ],
          [
           "F"
          ],
          [
           "E"
          ],
          [
           "A"
          ],
          [
           "D"
          ],
          [
           "A"
          ],
          [
           "C"
          ],
          [
           "D"
          ],
          [
           "D"
          ],
          [
           "D"
          ],
          [
           "D"
          ],
          [
           "B"
          ],
          [
           "D"
          ],
          [
           "B"
          ],
          [
           "B"
          ],
          [
           "A"
          ],
          [
           "A"
          ],
          [
           "D"
          ],
          [
           "B"
          ],
          [
           "D"
          ],
          [
           "D"
          ],
          [
           "A/B"
          ],
          [
           "B"
          ],
          [
           "B"
          ],
          [
           "C"
          ],
          [
           "C"
          ],
          [
           "D"
          ],
          [
           "A"
          ],
          [
           "D"
          ],
          [
           "A"
          ],
          [
           "E"
          ],
          [
           "C"
          ],
          [
           "B"
          ],
          [
           "B"
          ],
          [
           "C"
          ],
          [
           "C"
          ],
          [
           "B"
          ],
          [
           "B"
          ],
          [
           "B"
          ],
          [
           "D"
          ],
          [
           "B"
          ],
          [
           "D"
          ],
          [
           "E"
          ],
          [
           "F"
          ],
          [
           "A"
          ],
          [
           "F"
          ],
          [
           "D"
          ],
          [
           "C"
          ],
          [
           "D"
          ],
          [
           "C"
          ],
          [
           "C"
          ],
          [
           "C"
          ],
          [
           "D"
          ],
          [
           "C"
          ],
          [
           "D"
          ],
          [
           "A"
          ],
          [
           "C"
          ],
          [
           "C"
          ],
          [
           "C"
          ],
          [
           "C"
          ],
          [
           "D"
          ],
          [
           "D"
          ],
          [
           "B"
          ],
          [
           "A"
          ],
          [
           "C"
          ],
          [
           "E"
          ],
          [
           "A"
          ],
          [
           "C"
          ],
          [
           "B"
          ],
          [
           "C"
          ],
          [
           "A"
          ],
          [
           "A"
          ],
          [
           "A"
          ],
          [
           "A"
          ],
          [
           "G"
          ],
          [
           "D"
          ],
          [
           "B"
          ],
          [
           "E"
          ],
          [
           "A"
          ],
          [
           "B"
          ],
          [
           "A"
          ],
          [
           "A"
          ],
          [
           "A"
          ],
          [
           "B"
          ],
          [
           "B"
          ],
          [
           "F"
          ],
          [
           "B"
          ],
          [
           "C"
          ],
          [
           "E"
          ],
          [
           "E/A"
          ],
          [
           "E/A"
          ],
          [
           "C"
          ]
         ],
         "domain": {
          "x": [
           0,
           1
          ],
          "y": [
           0,
           1
          ]
         },
         "hole": 0.5,
         "hovertemplate": "Bldg #=%{label}<br>Deaths=%{value}<br>Side=%{customdata[0]}<extra></extra>",
         "insidetextfont": {
          "color": "white",
          "size": 8
         },
         "labels": [
          "twelve",
          "seventeen",
          "ten",
          "seven",
          "nine",
          "eleven",
          "fifteen",
          "fifteen",
          "twenty",
          "seven",
          "four",
          "eleven",
          "eleven",
          "sixteen",
          "sixteen",
          "three",
          "twelve",
          "eleven",
          "twenty-four",
          "eleven",
          "one",
          "three",
          "eight",
          "eleven",
          "sixteen",
          "seven",
          "four",
          "seven",
          "one",
          "seven",
          "twenty-four",
          "twenty-one",
          "twenty-one",
          "twenty-one",
          "one",
          "eleven",
          "sixteen",
          "one",
          "one",
          "four",
          "two",
          "twenty-one",
          "seven",
          "twenty-three",
          "nine",
          "fifteen",
          "fifteen",
          "one",
          "four",
          "twelve",
          "sixteen",
          "nine",
          "twenty-one",
          "four",
          "twenty-one",
          "eleven",
          "fifteen",
          "twenty",
          "eleven",
          "eleven",
          "eleven",
          "one",
          "twelve",
          "fourteen",
          "two",
          "four",
          "eleven",
          "sixteen",
          "seventeen",
          "twenty",
          "twenty-one",
          "twenty-four",
          "twenty-seven",
          "fifteen",
          "sixteen",
          "twenty-four",
          "seven",
          "twelve",
          "fourteen",
          "one",
          "twelve",
          "fifteen",
          "twenty",
          "one",
          "ten",
          "eleven",
          "twelve",
          "nine",
          "twenty",
          "ten",
          "twelve",
          "twelve",
          "fourteen",
          "fourteen",
          "thirty",
          "thirty",
          "twelve",
          "fourteen",
          "twenty",
          "twenty-four",
          "nine",
          "twenty",
          "twenty",
          "twenty-seven",
          "one",
          "twelve",
          "twelve",
          "sixteen",
          "two",
          "three",
          "ten",
          "twelve",
          "fourteen",
          "three",
          "four",
          "ten",
          "two",
          "thirty",
          "fifteen",
          "seventeen",
          "seventeen",
          "eleven",
          "eleven",
          "fifteen",
          "fifteen",
          "sixteen",
          "twenty-one",
          "three",
          "thirty",
          "nine",
          "eleven",
          "fourteen",
          "twenty-six",
          "twelve",
          "three",
          "three",
          "seven",
          "twelve",
          "fifteen",
          "twenty-seven",
          "seventeen",
          "twenty-four",
          "two",
          "three",
          "fifteen",
          "sixteen",
          "twenty-six",
          "one",
          "eleven",
          "twelve",
          "twenty",
          "twenty",
          "twenty-seven",
          "eleven",
          "eleven",
          "ten",
          "twelve",
          "twenty-three",
          "twenty-seven",
          "eleven",
          "fourteen",
          "two",
          "eleven",
          "eleven",
          "fourteen",
          "one",
          "nine",
          "sixteen",
          "sixteen",
          "seventeen",
          "twenty",
          "one",
          "twelve",
          "thirty",
          "two",
          "fifteen",
          "sixteen",
          "twenty",
          "twelve",
          "three",
          "twelve",
          "twelve",
          "eleven",
          "three",
          "three",
          "twelve",
          "twenty",
          "eleven",
          "twelve",
          "one",
          "ten",
          "twelve",
          "twenty-four",
          "twelve",
          "twenty-three",
          "eleven",
          "twelve",
          "seven",
          "seven",
          "seven",
          "twelve",
          "thirty",
          "two",
          "twenty-one",
          "fifteen",
          "three",
          "three",
          "three",
          "seven",
          "twelve",
          "twenty-seven",
          "eleven",
          "thirty",
          "twenty",
          "twenty",
          "twenty-one",
          "twelve",
          "two",
          "thirty",
          "sixteen",
          "twenty",
          "seven",
          "fifteen",
          "sixteen",
          "eleven",
          "ten",
          "eleven",
          "eleven",
          "one",
          "fourteen",
          "fourteen",
          "fourteen",
          "fourteen",
          "twelve",
          "fourteen",
          "seven",
          "seven",
          "seven",
          "seven",
          "thirteen"
         ],
         "legendgroup": "",
         "marker": {
          "colors": [
           "#636efa",
           "#EF553B",
           "#00cc96",
           "#ab63fa",
           "#00cc96",
           "#ab63fa",
           "#ab63fa",
           "#ab63fa",
           "#FFA15A",
           "#ab63fa",
           "#EF553B",
           "#00cc96",
           "#EF553B",
           "#FFA15A",
           "#00cc96",
           "#EF553B",
           "#EF553B",
           "#EF553B",
           "#EF553B",
           "#ab63fa",
           "#ab63fa",
           "#ab63fa",
           "#EF553B",
           "#FFA15A",
           "#00cc96",
           "#00cc96",
           "#FFA15A",
           "#EF553B",
           "#00cc96",
           "#636efa",
           "#EF553B",
           "#FFA15A",
           "#FFA15A",
           "#00cc96",
           "#ab63fa",
           "#00cc96",
           "#00cc96",
           "#FFA15A",
           "#ab63fa",
           "#EF553B",
           "#00cc96",
           "#FFA15A",
           "#EF553B",
           "#ab63fa",
           "#ab63fa",
           "#19d3f3",
           "#636efa",
           "#EF553B",
           "#FFA15A",
           "#19d3f3",
           "#FFA15A",
           "#00cc96",
           "#636efa",
           "#ab63fa",
           "#636efa",
           "#ab63fa",
           "#19d3f3",
           "#ab63fa",
           "#00cc96",
           "#ab63fa",
           "#EF553B",
           "#FFA15A",
           "#EF553B",
           "#ab63fa",
           "#ab63fa",
           "#EF553B",
           "#ab63fa",
           "#00cc96",
           "#ab63fa",
           "#FFA15A",
           "#636efa",
           "#FFA15A",
           "#FFA15A",
           "#FFA15A",
           "#ab63fa",
           "#EF553B",
           "#FFA15A",
           "#EF553B",
           "#EF553B",
           "#ab63fa",
           "#ab63fa",
           "#FF6692",
           "#FFA15A",
           "#ab63fa",
           "#00cc96",
           "#ab63fa",
           "#ab63fa",
           "#00cc96",
           "#ab63fa",
           "#EF553B",
           "#ab63fa",
           "#19d3f3",
           "#ab63fa",
           "#00cc96",
           "#ab63fa",
           "#EF553B",
           "#ab63fa",
           "#ab63fa",
           "#FFA15A",
           "#FFA15A",
           "#FFA15A",
           "#ab63fa",
           "#00cc96",
           "#EF553B",
           "#ab63fa",
           "#00cc96",
           "#ab63fa",
           "#ab63fa",
           "#ab63fa",
           "#00cc96",
           "#19d3f3",
           "#00cc96",
           "#ab63fa",
           "#EF553B",
           "#ab63fa",
           "#636efa",
           "#ab63fa",
           "#EF553B",
           "#FF6692",
           "#EF553B",
           "#00cc96",
           "#FFA15A",
           "#ab63fa",
           "#FFA15A",
           "#ab63fa",
           "#ab63fa",
           "#EF553B",
           "#EF553B",
           "#00cc96",
           "#ab63fa",
           "#FFA15A",
           "#ab63fa",
           "#19d3f3",
           "#636efa",
           "#EF553B",
           "#EF553B",
           "#B6E880",
           "#ab63fa",
           "#FF6692",
           "#00cc96",
           "#00cc96",
           "#FFA15A",
           "#ab63fa",
           "#EF553B",
           "#FFA15A",
           "#00cc96",
           "#00cc96",
           "#EF553B",
           "#EF553B",
           "#19d3f3",
           "#636efa",
           "#FFA15A",
           "#00cc96",
           "#FFA15A",
           "#EF553B",
           "#00cc96",
           "#00cc96",
           "#00cc96",
           "#00cc96",
           "#ab63fa",
           "#00cc96",
           "#ab63fa",
           "#ab63fa",
           "#FFA15A",
           "#FFA15A",
           "#00cc96",
           "#ab63fa",
           "#00cc96",
           "#00cc96",
           "#FF97FF",
           "#ab63fa",
           "#ab63fa",
           "#EF553B",
           "#EF553B",
           "#00cc96",
           "#FFA15A",
           "#00cc96",
           "#FFA15A",
           "#636efa",
           "#EF553B",
           "#ab63fa",
           "#ab63fa",
           "#EF553B",
           "#EF553B",
           "#ab63fa",
           "#ab63fa",
           "#ab63fa",
           "#00cc96",
           "#ab63fa",
           "#00cc96",
           "#636efa",
           "#19d3f3",
           "#FFA15A",
           "#19d3f3",
           "#00cc96",
           "#EF553B",
           "#00cc96",
           "#EF553B",
           "#EF553B",
           "#EF553B",
           "#00cc96",
           "#EF553B",
           "#00cc96",
           "#FFA15A",
           "#EF553B",
           "#EF553B",
           "#EF553B",
           "#EF553B",
           "#00cc96",
           "#00cc96",
           "#ab63fa",
           "#FFA15A",
           "#EF553B",
           "#636efa",
           "#FFA15A",
           "#EF553B",
           "#ab63fa",
           "#EF553B",
           "#FFA15A",
           "#FFA15A",
           "#FFA15A",
           "#FFA15A",
           "#FF6692",
           "#00cc96",
           "#ab63fa",
           "#636efa",
           "#FFA15A",
           "#ab63fa",
           "#FFA15A",
           "#FFA15A",
           "#FFA15A",
           "#ab63fa",
           "#ab63fa",
           "#19d3f3",
           "#ab63fa",
           "#EF553B",
           "#636efa",
           "#FECB52",
           "#FECB52",
           "#EF553B"
          ]
         },
         "name": "",
         "showlegend": true,
         "textinfo": "label+percent",
         "type": "pie",
         "values": [
          1,
          1,
          1,
          1,
          1,
          1,
          1,
          1,
          1,
          1,
          1,
          1,
          1,
          1,
          1,
          1,
          1,
          1,
          1,
          1,
          1,
          1,
          1,
          1,
          1,
          1,
          1,
          1,
          1,
          1,
          1,
          1,
          1,
          1,
          1,
          1,
          1,
          1,
          1,
          1,
          1,
          1,
          1,
          1,
          1,
          1,
          1,
          1,
          1,
          1,
          1,
          1,
          1,
          1,
          1,
          1,
          1,
          1,
          1,
          1,
          1,
          1,
          1,
          1,
          1,
          1,
          1,
          1,
          1,
          1,
          1,
          1,
          1,
          1,
          1,
          1,
          1,
          1,
          1,
          1,
          1,
          1,
          1,
          1,
          1,
          1,
          1,
          1,
          1,
          1,
          1,
          1,
          1,
          1,
          1,
          1,
          1,
          1,
          1,
          1,
          1,
          1,
          1,
          1,
          1,
          1,
          1,
          1,
          1,
          1,
          1,
          1,
          1,
          1,
          1,
          1,
          1,
          1,
          1,
          1,
          1,
          1,
          1,
          1,
          1,
          1,
          1,
          1,
          1,
          1,
          1,
          1,
          1,
          1,
          1,
          1,
          1,
          1,
          1,
          1,
          1,
          1,
          1,
          1,
          1,
          1,
          1,
          1,
          1,
          1,
          1,
          1,
          1,
          1,
          1,
          1,
          1,
          1,
          1,
          1,
          1,
          1,
          1,
          1,
          1,
          1,
          1,
          1,
          1,
          1,
          1,
          1,
          1,
          1,
          1,
          1,
          1,
          1,
          1,
          1,
          1,
          1,
          1,
          1,
          1,
          1,
          1,
          1,
          1,
          1,
          1,
          1,
          1,
          1,
          1,
          1,
          1,
          1,
          1,
          1,
          1,
          1,
          1,
          1,
          1,
          1,
          1,
          1,
          1,
          1,
          1,
          1,
          1,
          1,
          1,
          1,
          1,
          1,
          1,
          1,
          1,
          1,
          1,
          1,
          1,
          1,
          1,
          1,
          1,
          1,
          1,
          1,
          1,
          1,
          1,
          1,
          1,
          1,
          1,
          1
         ]
        }
       ],
       "layout": {
        "legend": {
         "itemclick": false,
         "tracegroupgap": 0
        },
        "margin": {
         "t": 60
        },
        "template": {
         "data": {
          "bar": [
           {
            "error_x": {
             "color": "#2a3f5f"
            },
            "error_y": {
             "color": "#2a3f5f"
            },
            "marker": {
             "line": {
              "color": "#E5ECF6",
              "width": 0.5
             },
             "pattern": {
              "fillmode": "overlay",
              "size": 10,
              "solidity": 0.2
             }
            },
            "type": "bar"
           }
          ],
          "barpolar": [
           {
            "marker": {
             "line": {
              "color": "#E5ECF6",
              "width": 0.5
             },
             "pattern": {
              "fillmode": "overlay",
              "size": 10,
              "solidity": 0.2
             }
            },
            "type": "barpolar"
           }
          ],
          "carpet": [
           {
            "aaxis": {
             "endlinecolor": "#2a3f5f",
             "gridcolor": "white",
             "linecolor": "white",
             "minorgridcolor": "white",
             "startlinecolor": "#2a3f5f"
            },
            "baxis": {
             "endlinecolor": "#2a3f5f",
             "gridcolor": "white",
             "linecolor": "white",
             "minorgridcolor": "white",
             "startlinecolor": "#2a3f5f"
            },
            "type": "carpet"
           }
          ],
          "choropleth": [
           {
            "colorbar": {
             "outlinewidth": 0,
             "ticks": ""
            },
            "type": "choropleth"
           }
          ],
          "contour": [
           {
            "colorbar": {
             "outlinewidth": 0,
             "ticks": ""
            },
            "colorscale": [
             [
              0,
              "#0d0887"
             ],
             [
              0.1111111111111111,
              "#46039f"
             ],
             [
              0.2222222222222222,
              "#7201a8"
             ],
             [
              0.3333333333333333,
              "#9c179e"
             ],
             [
              0.4444444444444444,
              "#bd3786"
             ],
             [
              0.5555555555555556,
              "#d8576b"
             ],
             [
              0.6666666666666666,
              "#ed7953"
             ],
             [
              0.7777777777777778,
              "#fb9f3a"
             ],
             [
              0.8888888888888888,
              "#fdca26"
             ],
             [
              1,
              "#f0f921"
             ]
            ],
            "type": "contour"
           }
          ],
          "contourcarpet": [
           {
            "colorbar": {
             "outlinewidth": 0,
             "ticks": ""
            },
            "type": "contourcarpet"
           }
          ],
          "heatmap": [
           {
            "colorbar": {
             "outlinewidth": 0,
             "ticks": ""
            },
            "colorscale": [
             [
              0,
              "#0d0887"
             ],
             [
              0.1111111111111111,
              "#46039f"
             ],
             [
              0.2222222222222222,
              "#7201a8"
             ],
             [
              0.3333333333333333,
              "#9c179e"
             ],
             [
              0.4444444444444444,
              "#bd3786"
             ],
             [
              0.5555555555555556,
              "#d8576b"
             ],
             [
              0.6666666666666666,
              "#ed7953"
             ],
             [
              0.7777777777777778,
              "#fb9f3a"
             ],
             [
              0.8888888888888888,
              "#fdca26"
             ],
             [
              1,
              "#f0f921"
             ]
            ],
            "type": "heatmap"
           }
          ],
          "heatmapgl": [
           {
            "colorbar": {
             "outlinewidth": 0,
             "ticks": ""
            },
            "colorscale": [
             [
              0,
              "#0d0887"
             ],
             [
              0.1111111111111111,
              "#46039f"
             ],
             [
              0.2222222222222222,
              "#7201a8"
             ],
             [
              0.3333333333333333,
              "#9c179e"
             ],
             [
              0.4444444444444444,
              "#bd3786"
             ],
             [
              0.5555555555555556,
              "#d8576b"
             ],
             [
              0.6666666666666666,
              "#ed7953"
             ],
             [
              0.7777777777777778,
              "#fb9f3a"
             ],
             [
              0.8888888888888888,
              "#fdca26"
             ],
             [
              1,
              "#f0f921"
             ]
            ],
            "type": "heatmapgl"
           }
          ],
          "histogram": [
           {
            "marker": {
             "pattern": {
              "fillmode": "overlay",
              "size": 10,
              "solidity": 0.2
             }
            },
            "type": "histogram"
           }
          ],
          "histogram2d": [
           {
            "colorbar": {
             "outlinewidth": 0,
             "ticks": ""
            },
            "colorscale": [
             [
              0,
              "#0d0887"
             ],
             [
              0.1111111111111111,
              "#46039f"
             ],
             [
              0.2222222222222222,
              "#7201a8"
             ],
             [
              0.3333333333333333,
              "#9c179e"
             ],
             [
              0.4444444444444444,
              "#bd3786"
             ],
             [
              0.5555555555555556,
              "#d8576b"
             ],
             [
              0.6666666666666666,
              "#ed7953"
             ],
             [
              0.7777777777777778,
              "#fb9f3a"
             ],
             [
              0.8888888888888888,
              "#fdca26"
             ],
             [
              1,
              "#f0f921"
             ]
            ],
            "type": "histogram2d"
           }
          ],
          "histogram2dcontour": [
           {
            "colorbar": {
             "outlinewidth": 0,
             "ticks": ""
            },
            "colorscale": [
             [
              0,
              "#0d0887"
             ],
             [
              0.1111111111111111,
              "#46039f"
             ],
             [
              0.2222222222222222,
              "#7201a8"
             ],
             [
              0.3333333333333333,
              "#9c179e"
             ],
             [
              0.4444444444444444,
              "#bd3786"
             ],
             [
              0.5555555555555556,
              "#d8576b"
             ],
             [
              0.6666666666666666,
              "#ed7953"
             ],
             [
              0.7777777777777778,
              "#fb9f3a"
             ],
             [
              0.8888888888888888,
              "#fdca26"
             ],
             [
              1,
              "#f0f921"
             ]
            ],
            "type": "histogram2dcontour"
           }
          ],
          "mesh3d": [
           {
            "colorbar": {
             "outlinewidth": 0,
             "ticks": ""
            },
            "type": "mesh3d"
           }
          ],
          "parcoords": [
           {
            "line": {
             "colorbar": {
              "outlinewidth": 0,
              "ticks": ""
             }
            },
            "type": "parcoords"
           }
          ],
          "pie": [
           {
            "automargin": true,
            "type": "pie"
           }
          ],
          "scatter": [
           {
            "fillpattern": {
             "fillmode": "overlay",
             "size": 10,
             "solidity": 0.2
            },
            "type": "scatter"
           }
          ],
          "scatter3d": [
           {
            "line": {
             "colorbar": {
              "outlinewidth": 0,
              "ticks": ""
             }
            },
            "marker": {
             "colorbar": {
              "outlinewidth": 0,
              "ticks": ""
             }
            },
            "type": "scatter3d"
           }
          ],
          "scattercarpet": [
           {
            "marker": {
             "colorbar": {
              "outlinewidth": 0,
              "ticks": ""
             }
            },
            "type": "scattercarpet"
           }
          ],
          "scattergeo": [
           {
            "marker": {
             "colorbar": {
              "outlinewidth": 0,
              "ticks": ""
             }
            },
            "type": "scattergeo"
           }
          ],
          "scattergl": [
           {
            "marker": {
             "colorbar": {
              "outlinewidth": 0,
              "ticks": ""
             }
            },
            "type": "scattergl"
           }
          ],
          "scattermapbox": [
           {
            "marker": {
             "colorbar": {
              "outlinewidth": 0,
              "ticks": ""
             }
            },
            "type": "scattermapbox"
           }
          ],
          "scatterpolar": [
           {
            "marker": {
             "colorbar": {
              "outlinewidth": 0,
              "ticks": ""
             }
            },
            "type": "scatterpolar"
           }
          ],
          "scatterpolargl": [
           {
            "marker": {
             "colorbar": {
              "outlinewidth": 0,
              "ticks": ""
             }
            },
            "type": "scatterpolargl"
           }
          ],
          "scatterternary": [
           {
            "marker": {
             "colorbar": {
              "outlinewidth": 0,
              "ticks": ""
             }
            },
            "type": "scatterternary"
           }
          ],
          "surface": [
           {
            "colorbar": {
             "outlinewidth": 0,
             "ticks": ""
            },
            "colorscale": [
             [
              0,
              "#0d0887"
             ],
             [
              0.1111111111111111,
              "#46039f"
             ],
             [
              0.2222222222222222,
              "#7201a8"
             ],
             [
              0.3333333333333333,
              "#9c179e"
             ],
             [
              0.4444444444444444,
              "#bd3786"
             ],
             [
              0.5555555555555556,
              "#d8576b"
             ],
             [
              0.6666666666666666,
              "#ed7953"
             ],
             [
              0.7777777777777778,
              "#fb9f3a"
             ],
             [
              0.8888888888888888,
              "#fdca26"
             ],
             [
              1,
              "#f0f921"
             ]
            ],
            "type": "surface"
           }
          ],
          "table": [
           {
            "cells": {
             "fill": {
              "color": "#EBF0F8"
             },
             "line": {
              "color": "white"
             }
            },
            "header": {
             "fill": {
              "color": "#C8D4E3"
             },
             "line": {
              "color": "white"
             }
            },
            "type": "table"
           }
          ]
         },
         "layout": {
          "annotationdefaults": {
           "arrowcolor": "#2a3f5f",
           "arrowhead": 0,
           "arrowwidth": 1
          },
          "autotypenumbers": "strict",
          "coloraxis": {
           "colorbar": {
            "outlinewidth": 0,
            "ticks": ""
           }
          },
          "colorscale": {
           "diverging": [
            [
             0,
             "#8e0152"
            ],
            [
             0.1,
             "#c51b7d"
            ],
            [
             0.2,
             "#de77ae"
            ],
            [
             0.3,
             "#f1b6da"
            ],
            [
             0.4,
             "#fde0ef"
            ],
            [
             0.5,
             "#f7f7f7"
            ],
            [
             0.6,
             "#e6f5d0"
            ],
            [
             0.7,
             "#b8e186"
            ],
            [
             0.8,
             "#7fbc41"
            ],
            [
             0.9,
             "#4d9221"
            ],
            [
             1,
             "#276419"
            ]
           ],
           "sequential": [
            [
             0,
             "#0d0887"
            ],
            [
             0.1111111111111111,
             "#46039f"
            ],
            [
             0.2222222222222222,
             "#7201a8"
            ],
            [
             0.3333333333333333,
             "#9c179e"
            ],
            [
             0.4444444444444444,
             "#bd3786"
            ],
            [
             0.5555555555555556,
             "#d8576b"
            ],
            [
             0.6666666666666666,
             "#ed7953"
            ],
            [
             0.7777777777777778,
             "#fb9f3a"
            ],
            [
             0.8888888888888888,
             "#fdca26"
            ],
            [
             1,
             "#f0f921"
            ]
           ],
           "sequentialminus": [
            [
             0,
             "#0d0887"
            ],
            [
             0.1111111111111111,
             "#46039f"
            ],
            [
             0.2222222222222222,
             "#7201a8"
            ],
            [
             0.3333333333333333,
             "#9c179e"
            ],
            [
             0.4444444444444444,
             "#bd3786"
            ],
            [
             0.5555555555555556,
             "#d8576b"
            ],
            [
             0.6666666666666666,
             "#ed7953"
            ],
            [
             0.7777777777777778,
             "#fb9f3a"
            ],
            [
             0.8888888888888888,
             "#fdca26"
            ],
            [
             1,
             "#f0f921"
            ]
           ]
          },
          "colorway": [
           "#636efa",
           "#EF553B",
           "#00cc96",
           "#ab63fa",
           "#FFA15A",
           "#19d3f3",
           "#FF6692",
           "#B6E880",
           "#FF97FF",
           "#FECB52"
          ],
          "font": {
           "color": "#2a3f5f"
          },
          "geo": {
           "bgcolor": "white",
           "lakecolor": "white",
           "landcolor": "#E5ECF6",
           "showlakes": true,
           "showland": true,
           "subunitcolor": "white"
          },
          "hoverlabel": {
           "align": "left"
          },
          "hovermode": "closest",
          "mapbox": {
           "style": "light"
          },
          "paper_bgcolor": "white",
          "plot_bgcolor": "#E5ECF6",
          "polar": {
           "angularaxis": {
            "gridcolor": "white",
            "linecolor": "white",
            "ticks": ""
           },
           "bgcolor": "#E5ECF6",
           "radialaxis": {
            "gridcolor": "white",
            "linecolor": "white",
            "ticks": ""
           }
          },
          "scene": {
           "xaxis": {
            "backgroundcolor": "#E5ECF6",
            "gridcolor": "white",
            "gridwidth": 2,
            "linecolor": "white",
            "showbackground": true,
            "ticks": "",
            "zerolinecolor": "white"
           },
           "yaxis": {
            "backgroundcolor": "#E5ECF6",
            "gridcolor": "white",
            "gridwidth": 2,
            "linecolor": "white",
            "showbackground": true,
            "ticks": "",
            "zerolinecolor": "white"
           },
           "zaxis": {
            "backgroundcolor": "#E5ECF6",
            "gridcolor": "white",
            "gridwidth": 2,
            "linecolor": "white",
            "showbackground": true,
            "ticks": "",
            "zerolinecolor": "white"
           }
          },
          "shapedefaults": {
           "line": {
            "color": "#2a3f5f"
           }
          },
          "ternary": {
           "aaxis": {
            "gridcolor": "white",
            "linecolor": "white",
            "ticks": ""
           },
           "baxis": {
            "gridcolor": "white",
            "linecolor": "white",
            "ticks": ""
           },
           "bgcolor": "#E5ECF6",
           "caxis": {
            "gridcolor": "white",
            "linecolor": "white",
            "ticks": ""
           }
          },
          "title": {
           "x": 0.05
          },
          "xaxis": {
           "automargin": true,
           "gridcolor": "white",
           "linecolor": "white",
           "ticks": "",
           "title": {
            "standoff": 15
           },
           "zerolinecolor": "white",
           "zerolinewidth": 2
          },
          "yaxis": {
           "automargin": true,
           "gridcolor": "white",
           "linecolor": "white",
           "ticks": "",
           "title": {
            "standoff": 15
           },
           "zerolinecolor": "white",
           "zerolinewidth": 2
          }
         }
        }
       }
      }
     },
     "metadata": {},
     "output_type": "display_data"
    }
   ],
   "source": [
    "import plotly.express as px\n",
    "df = pd.read_csv(\"bird-window-collision-death.csv\")\n",
    "fig = px.pie(df, values='Deaths', names='Bldg #', color='Side', hole=0.5)\n",
    "fig.update_traces(textinfo=\"label+percent\", \n",
    "                    insidetextfont=dict(color='white'),\n",
    "                    insidetextfont_size=8)\n",
    "fig.update_layout(legend_itemclick=False)\n",
    "fig.show()"
   ]
  },
  {
   "cell_type": "code",
   "execution_count": 30,
   "metadata": {},
   "outputs": [
    {
     "name": "stdout",
     "output_type": "stream",
     "text": [
      "Note: you may need to restart the kernel to use updated packages.Collecting kaleido\n",
      "  Downloading kaleido-0.2.1-py2.py3-none-win_amd64.whl.metadata (15 kB)\n",
      "Downloading kaleido-0.2.1-py2.py3-none-win_amd64.whl (65.9 MB)\n",
      "   ---------------------------------------- 0.0/65.9 MB ? eta -:--:--\n",
      "   ---------------------------------------- 0.0/65.9 MB ? eta -:--:--\n",
      "   ---------------------------------------- 0.3/65.9 MB ? eta -:--:--\n",
      "   ---------------------------------------- 0.5/65.9 MB 881.3 kB/s eta 0:01:15\n",
      "    --------------------------------------- 1.0/65.9 MB 838.8 kB/s eta 0:01:18\n",
      "    --------------------------------------- 1.3/65.9 MB 1.0 MB/s eta 0:01:02\n",
      "    --------------------------------------- 1.6/65.9 MB 970.1 kB/s eta 0:01:07\n",
      "   - -------------------------------------- 1.8/65.9 MB 1.0 MB/s eta 0:01:03\n",
      "   - -------------------------------------- 2.1/65.9 MB 1.1 MB/s eta 0:01:00\n",
      "   - -------------------------------------- 2.1/65.9 MB 1.1 MB/s eta 0:01:00\n",
      "   - -------------------------------------- 2.6/65.9 MB 1.1 MB/s eta 0:00:59\n",
      "   - -------------------------------------- 2.9/65.9 MB 1.1 MB/s eta 0:00:56\n",
      "   - -------------------------------------- 2.9/65.9 MB 1.1 MB/s eta 0:00:56\n",
      "   - -------------------------------------- 3.1/65.9 MB 1.1 MB/s eta 0:01:00\n",
      "   -- ------------------------------------- 3.4/65.9 MB 1.1 MB/s eta 0:00:58\n",
      "   -- ------------------------------------- 3.9/65.9 MB 1.1 MB/s eta 0:00:55\n",
      "   -- ------------------------------------- 4.2/65.9 MB 1.2 MB/s eta 0:00:54\n",
      "   -- ------------------------------------- 4.5/65.9 MB 1.2 MB/s eta 0:00:52\n",
      "   -- ------------------------------------- 4.7/65.9 MB 1.1 MB/s eta 0:00:54\n",
      "   --- ------------------------------------ 5.0/65.9 MB 1.2 MB/s eta 0:00:53\n",
      "   --- ------------------------------------ 5.2/65.9 MB 1.2 MB/s eta 0:00:52\n",
      "   --- ------------------------------------ 5.5/65.9 MB 1.2 MB/s eta 0:00:52\n",
      "   --- ------------------------------------ 6.0/65.9 MB 1.2 MB/s eta 0:00:50\n",
      "   --- ------------------------------------ 6.3/65.9 MB 1.2 MB/s eta 0:00:49\n",
      "   --- ------------------------------------ 6.3/65.9 MB 1.2 MB/s eta 0:00:49\n",
      "   --- ------------------------------------ 6.6/65.9 MB 1.2 MB/s eta 0:00:50\n",
      "   ---- ----------------------------------- 6.8/65.9 MB 1.2 MB/s eta 0:00:50\n",
      "   ---- ----------------------------------- 7.1/65.9 MB 1.2 MB/s eta 0:00:49\n",
      "   ---- ----------------------------------- 7.6/65.9 MB 1.2 MB/s eta 0:00:48\n",
      "   ---- ----------------------------------- 7.9/65.9 MB 1.2 MB/s eta 0:00:47\n",
      "   ---- ----------------------------------- 8.1/65.9 MB 1.2 MB/s eta 0:00:47\n",
      "   ----- ---------------------------------- 8.7/65.9 MB 1.3 MB/s eta 0:00:45\n",
      "   ----- ---------------------------------- 9.2/65.9 MB 1.3 MB/s eta 0:00:44\n",
      "   ----- ---------------------------------- 9.4/65.9 MB 1.3 MB/s eta 0:00:44\n",
      "   ------ --------------------------------- 10.0/65.9 MB 1.3 MB/s eta 0:00:42\n",
      "   ------ --------------------------------- 10.5/65.9 MB 1.4 MB/s eta 0:00:41\n",
      "   ------ --------------------------------- 11.0/65.9 MB 1.4 MB/s eta 0:00:40\n",
      "   ------ --------------------------------- 11.3/65.9 MB 1.4 MB/s eta 0:00:40\n",
      "   ------- -------------------------------- 11.8/65.9 MB 1.4 MB/s eta 0:00:39\n",
      "   ------- -------------------------------- 11.8/65.9 MB 1.4 MB/s eta 0:00:39\n",
      "   ------- -------------------------------- 12.3/65.9 MB 1.4 MB/s eta 0:00:39\n",
      "   ------- -------------------------------- 12.6/65.9 MB 1.4 MB/s eta 0:00:38\n",
      "\n",
      "   ------- -------------------------------- 12.6/65.9 MB 1.4 MB/s eta 0:00:38\n",
      "   ------- -------------------------------- 12.8/65.9 MB 1.4 MB/s eta 0:00:39\n",
      "   ------- -------------------------------- 13.1/65.9 MB 1.4 MB/s eta 0:00:39\n",
      "   -------- ------------------------------- 13.4/65.9 MB 1.4 MB/s eta 0:00:39\n",
      "   -------- ------------------------------- 13.9/65.9 MB 1.4 MB/s eta 0:00:38\n",
      "   -------- ------------------------------- 14.2/65.9 MB 1.4 MB/s eta 0:00:38\n",
      "   -------- ------------------------------- 14.7/65.9 MB 1.4 MB/s eta 0:00:37\n",
      "   --------- ------------------------------ 14.9/65.9 MB 1.4 MB/s eta 0:00:37\n",
      "   --------- ------------------------------ 15.5/65.9 MB 1.4 MB/s eta 0:00:36\n",
      "   --------- ------------------------------ 15.5/65.9 MB 1.4 MB/s eta 0:00:36\n",
      "   --------- ------------------------------ 15.7/65.9 MB 1.4 MB/s eta 0:00:37\n",
      "   --------- ------------------------------ 16.0/65.9 MB 1.4 MB/s eta 0:00:36\n",
      "   --------- ------------------------------ 16.3/65.9 MB 1.4 MB/s eta 0:00:36\n",
      "   ---------- ----------------------------- 16.5/65.9 MB 1.4 MB/s eta 0:00:36\n",
      "   ---------- ----------------------------- 16.8/65.9 MB 1.4 MB/s eta 0:00:36\n",
      "   ---------- ----------------------------- 16.8/65.9 MB 1.4 MB/s eta 0:00:36\n",
      "   ---------- ----------------------------- 17.0/65.9 MB 1.4 MB/s eta 0:00:37\n",
      "   ---------- ----------------------------- 17.3/65.9 MB 1.4 MB/s eta 0:00:36\n",
      "   ---------- ----------------------------- 17.3/65.9 MB 1.4 MB/s eta 0:00:36\n",
      "   ---------- ----------------------------- 17.6/65.9 MB 1.3 MB/s eta 0:00:37\n",
      "   ---------- ----------------------------- 17.8/65.9 MB 1.3 MB/s eta 0:00:37\n",
      "   ---------- ----------------------------- 18.1/65.9 MB 1.3 MB/s eta 0:00:37\n",
      "   ----------- ---------------------------- 18.4/65.9 MB 1.3 MB/s eta 0:00:36\n",
      "   ----------- ---------------------------- 18.9/65.9 MB 1.3 MB/s eta 0:00:36\n",
      "   ----------- ---------------------------- 19.1/65.9 MB 1.3 MB/s eta 0:00:35\n",
      "   ----------- ---------------------------- 19.7/65.9 MB 1.4 MB/s eta 0:00:35\n",
      "   ------------ --------------------------- 19.9/65.9 MB 1.4 MB/s eta 0:00:34\n",
      "   ------------ --------------------------- 20.2/65.9 MB 1.4 MB/s eta 0:00:34\n",
      "   ------------ --------------------------- 20.7/65.9 MB 1.4 MB/s eta 0:00:34\n",
      "   ------------ --------------------------- 21.0/65.9 MB 1.4 MB/s eta 0:00:33\n",
      "   ------------- -------------------------- 21.5/65.9 MB 1.4 MB/s eta 0:00:33\n",
      "   ------------- -------------------------- 21.8/65.9 MB 1.4 MB/s eta 0:00:32\n",
      "   ------------- -------------------------- 22.0/65.9 MB 1.4 MB/s eta 0:00:32\n",
      "   ------------- -------------------------- 22.5/65.9 MB 1.4 MB/s eta 0:00:32\n",
      "   ------------- -------------------------- 22.8/65.9 MB 1.4 MB/s eta 0:00:31\n",
      "   -------------- ------------------------- 23.3/65.9 MB 1.4 MB/s eta 0:00:31\n",
      "   -------------- ------------------------- 23.3/65.9 MB 1.4 MB/s eta 0:00:31\n",
      "   -------------- ------------------------- 23.9/65.9 MB 1.4 MB/s eta 0:00:31\n",
      "   -------------- ------------------------- 24.1/65.9 MB 1.4 MB/s eta 0:00:30\n",
      "   -------------- ------------------------- 24.6/65.9 MB 1.4 MB/s eta 0:00:30\n",
      "   --------------- ------------------------ 24.9/65.9 MB 1.4 MB/s eta 0:00:30\n",
      "   --------------- ------------------------ 25.4/65.9 MB 1.4 MB/s eta 0:00:29\n",
      "   --------------- ------------------------ 25.7/65.9 MB 1.4 MB/s eta 0:00:29\n",
      "   --------------- ------------------------ 26.2/65.9 MB 1.4 MB/s eta 0:00:28\n",
      "   ---------------- ----------------------- 26.5/65.9 MB 1.4 MB/s eta 0:00:28\n",
      "   ---------------- ----------------------- 26.5/65.9 MB 1.4 MB/s eta 0:00:28\n",
      "   ---------------- ----------------------- 26.7/65.9 MB 1.4 MB/s eta 0:00:28\n",
      "   ---------------- ----------------------- 27.3/65.9 MB 1.4 MB/s eta 0:00:28\n",
      "   ---------------- ----------------------- 27.3/65.9 MB 1.4 MB/s eta 0:00:28\n",
      "   ---------------- ----------------------- 27.5/65.9 MB 1.4 MB/s eta 0:00:28\n",
      "   ---------------- ----------------------- 27.8/65.9 MB 1.4 MB/s eta 0:00:28\n",
      "   ---------------- ----------------------- 27.8/65.9 MB 1.4 MB/s eta 0:00:28\n",
      "   ----------------- ---------------------- 28.3/65.9 MB 1.4 MB/s eta 0:00:27\n",
      "   ----------------- ---------------------- 28.3/65.9 MB 1.4 MB/s eta 0:00:27\n",
      "   ----------------- ---------------------- 28.6/65.9 MB 1.4 MB/s eta 0:00:27\n",
      "   ----------------- ---------------------- 29.1/65.9 MB 1.4 MB/s eta 0:00:27\n",
      "   ----------------- ---------------------- 29.4/65.9 MB 1.4 MB/s eta 0:00:27\n",
      "   ----------------- ---------------------- 29.6/65.9 MB 1.4 MB/s eta 0:00:27\n",
      "   ------------------ --------------------- 29.9/65.9 MB 1.4 MB/s eta 0:00:26\n",
      "   ------------------ --------------------- 30.4/65.9 MB 1.4 MB/s eta 0:00:26\n",
      "   ------------------ --------------------- 30.7/65.9 MB 1.4 MB/s eta 0:00:26\n",
      "   ------------------ --------------------- 31.2/65.9 MB 1.4 MB/s eta 0:00:25\n",
      "   ------------------- -------------------- 31.5/65.9 MB 1.4 MB/s eta 0:00:25\n",
      "   ------------------- -------------------- 31.7/65.9 MB 1.4 MB/s eta 0:00:25\n",
      "   ------------------- -------------------- 32.0/65.9 MB 1.4 MB/s eta 0:00:25\n",
      "   ------------------- -------------------- 32.2/65.9 MB 1.4 MB/s eta 0:00:24\n",
      "   ------------------- -------------------- 32.2/65.9 MB 1.4 MB/s eta 0:00:24\n",
      "   ------------------- -------------------- 32.5/65.9 MB 1.4 MB/s eta 0:00:25\n",
      "   ------------------- -------------------- 32.8/65.9 MB 1.4 MB/s eta 0:00:24\n",
      "   ------------------- -------------------- 32.8/65.9 MB 1.4 MB/s eta 0:00:24\n",
      "   -------------------- ------------------- 33.0/65.9 MB 1.4 MB/s eta 0:00:24\n",
      "   -------------------- ------------------- 33.3/65.9 MB 1.4 MB/s eta 0:00:24\n",
      "   -------------------- ------------------- 33.3/65.9 MB 1.4 MB/s eta 0:00:24\n",
      "   -------------------- ------------------- 33.6/65.9 MB 1.4 MB/s eta 0:00:24\n",
      "   -------------------- ------------------- 33.6/65.9 MB 1.4 MB/s eta 0:00:24\n",
      "   -------------------- ------------------- 33.6/65.9 MB 1.4 MB/s eta 0:00:24\n",
      "   -------------------- ------------------- 33.8/65.9 MB 1.3 MB/s eta 0:00:25\n",
      "   -------------------- ------------------- 33.8/65.9 MB 1.3 MB/s eta 0:00:25\n",
      "   -------------------- ------------------- 33.8/65.9 MB 1.3 MB/s eta 0:00:25\n",
      "   -------------------- ------------------- 33.8/65.9 MB 1.3 MB/s eta 0:00:25\n",
      "   -------------------- ------------------- 34.1/65.9 MB 1.3 MB/s eta 0:00:25\n",
      "   -------------------- ------------------- 34.1/65.9 MB 1.3 MB/s eta 0:00:25\n",
      "   -------------------- ------------------- 34.1/65.9 MB 1.3 MB/s eta 0:00:25\n",
      "   -------------------- ------------------- 34.3/65.9 MB 1.3 MB/s eta 0:00:25\n",
      "   -------------------- ------------------- 34.3/65.9 MB 1.3 MB/s eta 0:00:25\n",
      "   -------------------- ------------------- 34.3/65.9 MB 1.3 MB/s eta 0:00:25\n",
      "   -------------------- ------------------- 34.3/65.9 MB 1.3 MB/s eta 0:00:25\n",
      "   -------------------- ------------------- 34.3/65.9 MB 1.3 MB/s eta 0:00:25\n",
      "   -------------------- ------------------- 34.6/65.9 MB 1.2 MB/s eta 0:00:26\n",
      "   -------------------- ------------------- 34.6/65.9 MB 1.2 MB/s eta 0:00:26\n",
      "   -------------------- ------------------- 34.6/65.9 MB 1.2 MB/s eta 0:00:26\n",
      "   -------------------- ------------------- 34.6/65.9 MB 1.2 MB/s eta 0:00:26\n",
      "   --------------------- ------------------ 34.9/65.9 MB 1.2 MB/s eta 0:00:26\n",
      "   --------------------- ------------------ 34.9/65.9 MB 1.2 MB/s eta 0:00:26\n",
      "   --------------------- ------------------ 34.9/65.9 MB 1.2 MB/s eta 0:00:26\n",
      "   --------------------- ------------------ 35.1/65.9 MB 1.2 MB/s eta 0:00:26\n",
      "   --------------------- ------------------ 35.1/65.9 MB 1.2 MB/s eta 0:00:26\n",
      "   --------------------- ------------------ 35.4/65.9 MB 1.2 MB/s eta 0:00:26\n",
      "   --------------------- ------------------ 35.7/65.9 MB 1.2 MB/s eta 0:00:26\n",
      "   --------------------- ------------------ 35.7/65.9 MB 1.2 MB/s eta 0:00:26\n",
      "   --------------------- ------------------ 35.7/65.9 MB 1.2 MB/s eta 0:00:26\n",
      "   --------------------- ------------------ 35.9/65.9 MB 1.2 MB/s eta 0:00:26\n",
      "   --------------------- ------------------ 36.2/65.9 MB 1.2 MB/s eta 0:00:26\n",
      "   ---------------------- ----------------- 36.4/65.9 MB 1.2 MB/s eta 0:00:25\n",
      "   ---------------------- ----------------- 36.7/65.9 MB 1.2 MB/s eta 0:00:25\n",
      "   ---------------------- ----------------- 37.0/65.9 MB 1.2 MB/s eta 0:00:25\n",
      "   ---------------------- ----------------- 37.0/65.9 MB 1.2 MB/s eta 0:00:25\n",
      "   ---------------------- ----------------- 37.2/65.9 MB 1.2 MB/s eta 0:00:25\n",
      "   ---------------------- ----------------- 37.2/65.9 MB 1.2 MB/s eta 0:00:25\n",
      "   ---------------------- ----------------- 37.5/65.9 MB 1.2 MB/s eta 0:00:25\n",
      "   ---------------------- ----------------- 37.5/65.9 MB 1.2 MB/s eta 0:00:25\n",
      "   ---------------------- ----------------- 37.7/65.9 MB 1.2 MB/s eta 0:00:25\n",
      "   ---------------------- ----------------- 37.7/65.9 MB 1.2 MB/s eta 0:00:25\n",
      "   ---------------------- ----------------- 37.7/65.9 MB 1.2 MB/s eta 0:00:25\n",
      "   ---------------------- ----------------- 37.7/65.9 MB 1.2 MB/s eta 0:00:25\n",
      "   ---------------------- ----------------- 37.7/65.9 MB 1.2 MB/s eta 0:00:25\n",
      "   ---------------------- ----------------- 37.7/65.9 MB 1.2 MB/s eta 0:00:25\n",
      "   ----------------------- ---------------- 38.0/65.9 MB 1.1 MB/s eta 0:00:26\n",
      "   ----------------------- ---------------- 38.0/65.9 MB 1.1 MB/s eta 0:00:26\n",
      "   ----------------------- ---------------- 38.3/65.9 MB 1.1 MB/s eta 0:00:26\n",
      "   ----------------------- ---------------- 38.5/65.9 MB 1.1 MB/s eta 0:00:25\n",
      "   ----------------------- ---------------- 38.8/65.9 MB 1.1 MB/s eta 0:00:25\n",
      "   ----------------------- ---------------- 39.1/65.9 MB 1.1 MB/s eta 0:00:25\n",
      "   ----------------------- ---------------- 39.3/65.9 MB 1.1 MB/s eta 0:00:25\n",
      "   ------------------------ --------------- 39.6/65.9 MB 1.1 MB/s eta 0:00:24\n",
      "   ------------------------ --------------- 39.8/65.9 MB 1.1 MB/s eta 0:00:24\n",
      "   ------------------------ --------------- 40.1/65.9 MB 1.1 MB/s eta 0:00:24\n",
      "   ------------------------ --------------- 40.1/65.9 MB 1.1 MB/s eta 0:00:24\n",
      "   ------------------------ --------------- 40.4/65.9 MB 1.1 MB/s eta 0:00:24\n",
      "   ------------------------ --------------- 40.6/65.9 MB 1.1 MB/s eta 0:00:24\n",
      "   ------------------------ --------------- 41.2/65.9 MB 1.1 MB/s eta 0:00:23\n",
      "   ------------------------- -------------- 41.4/65.9 MB 1.1 MB/s eta 0:00:23\n",
      "   ------------------------- -------------- 41.7/65.9 MB 1.1 MB/s eta 0:00:23\n",
      "   ------------------------- -------------- 41.9/65.9 MB 1.1 MB/s eta 0:00:23\n",
      "   ------------------------- -------------- 42.5/65.9 MB 1.1 MB/s eta 0:00:22\n",
      "   ------------------------- -------------- 42.7/65.9 MB 1.1 MB/s eta 0:00:22\n",
      "   -------------------------- ------------- 43.0/65.9 MB 1.1 MB/s eta 0:00:22\n",
      "   -------------------------- ------------- 43.5/65.9 MB 1.1 MB/s eta 0:00:22\n",
      "   -------------------------- ------------- 43.8/65.9 MB 1.1 MB/s eta 0:00:21\n",
      "   -------------------------- ------------- 44.3/65.9 MB 1.1 MB/s eta 0:00:21\n",
      "   --------------------------- ------------ 44.8/65.9 MB 1.1 MB/s eta 0:00:20\n",
      "   --------------------------- ------------ 45.1/65.9 MB 1.1 MB/s eta 0:00:20\n",
      "   --------------------------- ------------ 45.4/65.9 MB 1.1 MB/s eta 0:00:19\n",
      "   --------------------------- ------------ 45.9/65.9 MB 1.1 MB/s eta 0:00:19\n",
      "   --------------------------- ------------ 46.1/65.9 MB 1.1 MB/s eta 0:00:19\n",
      "   ---------------------------- ----------- 46.4/65.9 MB 1.1 MB/s eta 0:00:18\n",
      "   ---------------------------- ----------- 46.7/65.9 MB 1.1 MB/s eta 0:00:18\n",
      "   ---------------------------- ----------- 46.9/65.9 MB 1.1 MB/s eta 0:00:18\n",
      "   ---------------------------- ----------- 46.9/65.9 MB 1.1 MB/s eta 0:00:18\n",
      "   ---------------------------- ----------- 47.4/65.9 MB 1.1 MB/s eta 0:00:18\n",
      "   ---------------------------- ----------- 47.7/65.9 MB 1.1 MB/s eta 0:00:17\n",
      "   ----------------------------- ---------- 48.0/65.9 MB 1.1 MB/s eta 0:00:17\n",
      "   ----------------------------- ---------- 48.5/65.9 MB 1.1 MB/s eta 0:00:17\n",
      "   ----------------------------- ---------- 48.8/65.9 MB 1.1 MB/s eta 0:00:16\n",
      "   ----------------------------- ---------- 49.0/65.9 MB 1.1 MB/s eta 0:00:16\n",
      "   ----------------------------- ---------- 49.3/65.9 MB 1.1 MB/s eta 0:00:16\n",
      "   ------------------------------ --------- 49.5/65.9 MB 1.1 MB/s eta 0:00:15\n",
      "   ------------------------------ --------- 49.5/65.9 MB 1.1 MB/s eta 0:00:15\n",
      "   ------------------------------ --------- 49.8/65.9 MB 1.1 MB/s eta 0:00:15\n",
      "   ------------------------------ --------- 49.8/65.9 MB 1.1 MB/s eta 0:00:15\n",
      "   ------------------------------ --------- 50.1/65.9 MB 1.1 MB/s eta 0:00:15\n",
      "   ------------------------------ --------- 50.3/65.9 MB 1.1 MB/s eta 0:00:15\n",
      "   ------------------------------ --------- 50.6/65.9 MB 1.1 MB/s eta 0:00:15\n",
      "   ------------------------------ --------- 50.9/65.9 MB 1.1 MB/s eta 0:00:14\n",
      "   ------------------------------- -------- 51.1/65.9 MB 1.1 MB/s eta 0:00:14\n",
      "   ------------------------------- -------- 51.6/65.9 MB 1.1 MB/s eta 0:00:14\n",
      "   ------------------------------- -------- 51.9/65.9 MB 1.1 MB/s eta 0:00:13\n",
      "   ------------------------------- -------- 52.2/65.9 MB 1.1 MB/s eta 0:00:13\n",
      "   ------------------------------- -------- 52.4/65.9 MB 1.1 MB/s eta 0:00:13\n",
      "   -------------------------------- ------- 53.0/65.9 MB 1.1 MB/s eta 0:00:13\n",
      "   -------------------------------- ------- 53.2/65.9 MB 1.1 MB/s eta 0:00:12\n",
      "   -------------------------------- ------- 53.7/65.9 MB 1.1 MB/s eta 0:00:12\n",
      "   -------------------------------- ------- 53.7/65.9 MB 1.1 MB/s eta 0:00:12\n",
      "   -------------------------------- ------- 54.0/65.9 MB 1.1 MB/s eta 0:00:12\n",
      "   --------------------------------- ------ 54.5/65.9 MB 1.1 MB/s eta 0:00:11\n",
      "   --------------------------------- ------ 54.5/65.9 MB 1.1 MB/s eta 0:00:11\n",
      "   --------------------------------- ------ 54.8/65.9 MB 1.1 MB/s eta 0:00:11\n",
      "   --------------------------------- ------ 55.1/65.9 MB 1.1 MB/s eta 0:00:11\n",
      "   --------------------------------- ------ 55.1/65.9 MB 1.1 MB/s eta 0:00:11\n",
      "   --------------------------------- ------ 55.1/65.9 MB 1.1 MB/s eta 0:00:11\n",
      "   --------------------------------- ------ 55.3/65.9 MB 1.0 MB/s eta 0:00:11\n",
      "   --------------------------------- ------ 55.3/65.9 MB 1.0 MB/s eta 0:00:11\n",
      "   --------------------------------- ------ 55.6/65.9 MB 1.0 MB/s eta 0:00:11\n",
      "   --------------------------------- ------ 55.8/65.9 MB 1.0 MB/s eta 0:00:11\n",
      "   --------------------------------- ------ 55.8/65.9 MB 1.0 MB/s eta 0:00:11\n",
      "   ---------------------------------- ----- 56.1/65.9 MB 990.0 kB/s eta 0:00:10\n",
      "   ---------------------------------- ----- 56.4/65.9 MB 996.0 kB/s eta 0:00:10\n",
      "   ---------------------------------- ----- 56.4/65.9 MB 996.0 kB/s eta 0:00:10\n",
      "   ---------------------------------- ----- 56.4/65.9 MB 996.0 kB/s eta 0:00:10\n",
      "   ---------------------------------- ----- 56.4/65.9 MB 996.0 kB/s eta 0:00:10\n",
      "   ---------------------------------- ----- 56.4/65.9 MB 996.0 kB/s eta 0:00:10\n",
      "   ---------------------------------- ----- 56.6/65.9 MB 962.2 kB/s eta 0:00:10\n",
      "   ---------------------------------- ----- 56.6/65.9 MB 962.2 kB/s eta 0:00:10\n",
      "   ---------------------------------- ----- 56.6/65.9 MB 962.2 kB/s eta 0:00:10\n",
      "   ---------------------------------- ----- 56.9/65.9 MB 953.8 kB/s eta 0:00:10\n",
      "   ---------------------------------- ----- 56.9/65.9 MB 953.8 kB/s eta 0:00:10\n",
      "   ---------------------------------- ----- 57.1/65.9 MB 949.0 kB/s eta 0:00:10\n",
      "   ---------------------------------- ----- 57.1/65.9 MB 949.0 kB/s eta 0:00:10\n",
      "   ---------------------------------- ----- 57.4/65.9 MB 931.0 kB/s eta 0:00:10\n",
      "   ---------------------------------- ----- 57.7/65.9 MB 928.9 kB/s eta 0:00:09\n",
      "   ----------------------------------- ---- 57.9/65.9 MB 927.3 kB/s eta 0:00:09\n",
      "   ----------------------------------- ---- 58.2/65.9 MB 922.1 kB/s eta 0:00:09\n",
      "   ----------------------------------- ---- 58.5/65.9 MB 922.2 kB/s eta 0:00:09\n",
      "   ----------------------------------- ---- 59.0/65.9 MB 919.2 kB/s eta 0:00:08\n",
      "   ----------------------------------- ---- 59.2/65.9 MB 925.0 kB/s eta 0:00:08\n",
      "   ----------------------------------- ---- 59.2/65.9 MB 925.0 kB/s eta 0:00:08\n",
      "   ------------------------------------ --- 59.5/65.9 MB 918.9 kB/s eta 0:00:08\n",
      "   ------------------------------------ --- 59.8/65.9 MB 920.9 kB/s eta 0:00:07\n",
      "   ------------------------------------ --- 60.0/65.9 MB 924.5 kB/s eta 0:00:07\n",
      "   ------------------------------------ --- 60.3/65.9 MB 918.4 kB/s eta 0:00:07\n",
      "   ------------------------------------ --- 60.3/65.9 MB 918.4 kB/s eta 0:00:07\n",
      "   ------------------------------------ --- 60.6/65.9 MB 924.7 kB/s eta 0:00:06\n",
      "   ------------------------------------ --- 60.6/65.9 MB 924.7 kB/s eta 0:00:06\n",
      "   ------------------------------------ --- 60.8/65.9 MB 921.5 kB/s eta 0:00:06\n",
      "   ------------------------------------ --- 60.8/65.9 MB 921.5 kB/s eta 0:00:06\n",
      "   ------------------------------------- -- 61.1/65.9 MB 928.7 kB/s eta 0:00:06\n",
      "   ------------------------------------- -- 61.1/65.9 MB 928.7 kB/s eta 0:00:06\n",
      "   ------------------------------------- -- 61.1/65.9 MB 928.7 kB/s eta 0:00:06\n",
      "   ------------------------------------- -- 61.3/65.9 MB 919.7 kB/s eta 0:00:06\n",
      "   ------------------------------------- -- 61.3/65.9 MB 919.7 kB/s eta 0:00:06\n",
      "   ------------------------------------- -- 61.3/65.9 MB 919.7 kB/s eta 0:00:06\n",
      "   ------------------------------------- -- 61.3/65.9 MB 919.7 kB/s eta 0:00:06\n",
      "   ------------------------------------- -- 61.6/65.9 MB 929.0 kB/s eta 0:00:05\n",
      "   ------------------------------------- -- 61.9/65.9 MB 926.9 kB/s eta 0:00:05\n",
      "   ------------------------------------- -- 61.9/65.9 MB 926.9 kB/s eta 0:00:05\n",
      "   ------------------------------------- -- 61.9/65.9 MB 926.9 kB/s eta 0:00:05\n",
      "   ------------------------------------- -- 61.9/65.9 MB 926.9 kB/s eta 0:00:05\n",
      "   ------------------------------------- -- 62.1/65.9 MB 934.4 kB/s eta 0:00:05\n",
      "   ------------------------------------- -- 62.1/65.9 MB 934.4 kB/s eta 0:00:05\n",
      "   ------------------------------------- -- 62.4/65.9 MB 933.7 kB/s eta 0:00:04\n",
      "   ------------------------------------- -- 62.4/65.9 MB 933.7 kB/s eta 0:00:04\n",
      "   -------------------------------------- - 62.7/65.9 MB 938.7 kB/s eta 0:00:04\n",
      "   -------------------------------------- - 62.7/65.9 MB 938.7 kB/s eta 0:00:04\n",
      "   -------------------------------------- - 62.7/65.9 MB 938.7 kB/s eta 0:00:04\n",
      "   -------------------------------------- - 62.7/65.9 MB 938.7 kB/s eta 0:00:04\n",
      "   -------------------------------------- - 62.7/65.9 MB 938.7 kB/s eta 0:00:04\n",
      "   -------------------------------------- - 62.9/65.9 MB 932.6 kB/s eta 0:00:04\n",
      "   -------------------------------------- - 62.9/65.9 MB 932.6 kB/s eta 0:00:04\n",
      "   -------------------------------------- - 63.2/65.9 MB 931.5 kB/s eta 0:00:03\n",
      "   -------------------------------------- - 63.4/65.9 MB 932.9 kB/s eta 0:00:03\n",
      "   -------------------------------------- - 63.7/65.9 MB 935.4 kB/s eta 0:00:03\n",
      "   -------------------------------------- - 64.0/65.9 MB 944.0 kB/s eta 0:00:03\n",
      "   -------------------------------------- - 64.0/65.9 MB 944.0 kB/s eta 0:00:03\n",
      "   -------------------------------------- - 64.2/65.9 MB 938.4 kB/s eta 0:00:02\n",
      "   ---------------------------------------  64.5/65.9 MB 938.3 kB/s eta 0:00:02\n",
      "   ---------------------------------------  65.0/65.9 MB 938.9 kB/s eta 0:00:01\n",
      "   ---------------------------------------  65.3/65.9 MB 950.1 kB/s eta 0:00:01\n",
      "   ---------------------------------------  65.5/65.9 MB 952.5 kB/s eta 0:00:01\n",
      "   ---------------------------------------  65.8/65.9 MB 955.0 kB/s eta 0:00:01\n",
      "   ---------------------------------------  65.8/65.9 MB 955.0 kB/s eta 0:00:01\n",
      "   ---------------------------------------  65.8/65.9 MB 955.0 kB/s eta 0:00:01\n",
      "   ---------------------------------------  65.8/65.9 MB 955.0 kB/s eta 0:00:01\n",
      "   ---------------------------------------  65.8/65.9 MB 955.0 kB/s eta 0:00:01\n",
      "   ---------------------------------------- 65.9/65.9 MB 970.6 kB/s eta 0:00:00\n",
      "Installing collected packages: kaleido\n",
      "Successfully installed kaleido-0.2.1\n"
     ]
    }
   ],
   "source": [
    "pip install -U kaleido"
   ]
  },
  {
   "cell_type": "code",
   "execution_count": 32,
   "metadata": {},
   "outputs": [
    {
     "ename": "ValueError",
     "evalue": "\nImage export using the \"kaleido\" engine requires the kaleido package,\nwhich can be installed using pip:\n    $ pip install -U kaleido\n",
     "output_type": "error",
     "traceback": [
      "\u001b[1;31m---------------------------------------------------------------------------\u001b[0m",
      "\u001b[1;31mValueError\u001b[0m                                Traceback (most recent call last)",
      "Cell \u001b[1;32mIn[32], line 1\u001b[0m\n\u001b[1;32m----> 1\u001b[0m \u001b[43mfig\u001b[49m\u001b[38;5;241;43m.\u001b[39;49m\u001b[43mwrite_image\u001b[49m\u001b[43m(\u001b[49m\u001b[38;5;124;43m\"\u001b[39;49m\u001b[38;5;124;43mimages/fig1.png\u001b[39;49m\u001b[38;5;124;43m\"\u001b[39;49m\u001b[43m)\u001b[49m\n",
      "File \u001b[1;32md:\\Python\\Lib\\site-packages\\plotly\\basedatatypes.py:3835\u001b[0m, in \u001b[0;36mBaseFigure.write_image\u001b[1;34m(self, *args, **kwargs)\u001b[0m\n\u001b[0;32m   3775\u001b[0m \u001b[38;5;250m\u001b[39m\u001b[38;5;124;03m\"\"\"\u001b[39;00m\n\u001b[0;32m   3776\u001b[0m \u001b[38;5;124;03mConvert a figure to a static image and write it to a file or writeable\u001b[39;00m\n\u001b[0;32m   3777\u001b[0m \u001b[38;5;124;03mobject\u001b[39;00m\n\u001b[1;32m   (...)\u001b[0m\n\u001b[0;32m   3831\u001b[0m \u001b[38;5;124;03mNone\u001b[39;00m\n\u001b[0;32m   3832\u001b[0m \u001b[38;5;124;03m\"\"\"\u001b[39;00m\n\u001b[0;32m   3833\u001b[0m \u001b[38;5;28;01mimport\u001b[39;00m \u001b[38;5;21;01mplotly\u001b[39;00m\u001b[38;5;21;01m.\u001b[39;00m\u001b[38;5;21;01mio\u001b[39;00m \u001b[38;5;28;01mas\u001b[39;00m \u001b[38;5;21;01mpio\u001b[39;00m\n\u001b[1;32m-> 3835\u001b[0m \u001b[38;5;28;01mreturn\u001b[39;00m \u001b[43mpio\u001b[49m\u001b[38;5;241;43m.\u001b[39;49m\u001b[43mwrite_image\u001b[49m\u001b[43m(\u001b[49m\u001b[38;5;28;43mself\u001b[39;49m\u001b[43m,\u001b[49m\u001b[43m \u001b[49m\u001b[38;5;241;43m*\u001b[39;49m\u001b[43margs\u001b[49m\u001b[43m,\u001b[49m\u001b[43m \u001b[49m\u001b[38;5;241;43m*\u001b[39;49m\u001b[38;5;241;43m*\u001b[39;49m\u001b[43mkwargs\u001b[49m\u001b[43m)\u001b[49m\n",
      "File \u001b[1;32md:\\Python\\Lib\\site-packages\\plotly\\io\\_kaleido.py:266\u001b[0m, in \u001b[0;36mwrite_image\u001b[1;34m(fig, file, format, scale, width, height, validate, engine)\u001b[0m\n\u001b[0;32m    250\u001b[0m             \u001b[38;5;28;01mraise\u001b[39;00m \u001b[38;5;167;01mValueError\u001b[39;00m(\n\u001b[0;32m    251\u001b[0m \u001b[38;5;250m                \u001b[39m\u001b[38;5;124;03m\"\"\"\u001b[39;00m\n\u001b[0;32m    252\u001b[0m \u001b[38;5;124;03mCannot infer image type from output path '{file}'.\u001b[39;00m\n\u001b[1;32m   (...)\u001b[0m\n\u001b[0;32m    260\u001b[0m                 )\n\u001b[0;32m    261\u001b[0m             )\n\u001b[0;32m    263\u001b[0m     \u001b[38;5;66;03m# Request image\u001b[39;00m\n\u001b[0;32m    264\u001b[0m     \u001b[38;5;66;03m# -------------\u001b[39;00m\n\u001b[0;32m    265\u001b[0m     \u001b[38;5;66;03m# Do this first so we don't create a file if image conversion fails\u001b[39;00m\n\u001b[1;32m--> 266\u001b[0m     img_data \u001b[38;5;241m=\u001b[39m \u001b[43mto_image\u001b[49m\u001b[43m(\u001b[49m\n\u001b[0;32m    267\u001b[0m \u001b[43m        \u001b[49m\u001b[43mfig\u001b[49m\u001b[43m,\u001b[49m\n\u001b[0;32m    268\u001b[0m \u001b[43m        \u001b[49m\u001b[38;5;28;43mformat\u001b[39;49m\u001b[38;5;241;43m=\u001b[39;49m\u001b[38;5;28;43mformat\u001b[39;49m\u001b[43m,\u001b[49m\n\u001b[0;32m    269\u001b[0m \u001b[43m        \u001b[49m\u001b[43mscale\u001b[49m\u001b[38;5;241;43m=\u001b[39;49m\u001b[43mscale\u001b[49m\u001b[43m,\u001b[49m\n\u001b[0;32m    270\u001b[0m \u001b[43m        \u001b[49m\u001b[43mwidth\u001b[49m\u001b[38;5;241;43m=\u001b[39;49m\u001b[43mwidth\u001b[49m\u001b[43m,\u001b[49m\n\u001b[0;32m    271\u001b[0m \u001b[43m        \u001b[49m\u001b[43mheight\u001b[49m\u001b[38;5;241;43m=\u001b[39;49m\u001b[43mheight\u001b[49m\u001b[43m,\u001b[49m\n\u001b[0;32m    272\u001b[0m \u001b[43m        \u001b[49m\u001b[43mvalidate\u001b[49m\u001b[38;5;241;43m=\u001b[39;49m\u001b[43mvalidate\u001b[49m\u001b[43m,\u001b[49m\n\u001b[0;32m    273\u001b[0m \u001b[43m        \u001b[49m\u001b[43mengine\u001b[49m\u001b[38;5;241;43m=\u001b[39;49m\u001b[43mengine\u001b[49m\u001b[43m,\u001b[49m\n\u001b[0;32m    274\u001b[0m \u001b[43m    \u001b[49m\u001b[43m)\u001b[49m\n\u001b[0;32m    276\u001b[0m     \u001b[38;5;66;03m# Open file\u001b[39;00m\n\u001b[0;32m    277\u001b[0m     \u001b[38;5;66;03m# ---------\u001b[39;00m\n\u001b[0;32m    278\u001b[0m     \u001b[38;5;28;01mif\u001b[39;00m path \u001b[38;5;129;01mis\u001b[39;00m \u001b[38;5;28;01mNone\u001b[39;00m:\n\u001b[0;32m    279\u001b[0m         \u001b[38;5;66;03m# We previously failed to make sense of `file` as a pathlib object.\u001b[39;00m\n\u001b[0;32m    280\u001b[0m         \u001b[38;5;66;03m# Attempt to write to `file` as an open file descriptor.\u001b[39;00m\n",
      "File \u001b[1;32md:\\Python\\Lib\\site-packages\\plotly\\io\\_kaleido.py:132\u001b[0m, in \u001b[0;36mto_image\u001b[1;34m(fig, format, width, height, scale, validate, engine)\u001b[0m\n\u001b[0;32m    130\u001b[0m     \u001b[38;5;66;03m# Raise informative error message if Kaleido is not installed\u001b[39;00m\n\u001b[0;32m    131\u001b[0m     \u001b[38;5;28;01mif\u001b[39;00m scope \u001b[38;5;129;01mis\u001b[39;00m \u001b[38;5;28;01mNone\u001b[39;00m:\n\u001b[1;32m--> 132\u001b[0m         \u001b[38;5;28;01mraise\u001b[39;00m \u001b[38;5;167;01mValueError\u001b[39;00m(\n\u001b[0;32m    133\u001b[0m \u001b[38;5;250m            \u001b[39m\u001b[38;5;124;03m\"\"\"\u001b[39;00m\n\u001b[0;32m    134\u001b[0m \u001b[38;5;124;03mImage export using the \"kaleido\" engine requires the kaleido package,\u001b[39;00m\n\u001b[0;32m    135\u001b[0m \u001b[38;5;124;03mwhich can be installed using pip:\u001b[39;00m\n\u001b[0;32m    136\u001b[0m \u001b[38;5;124;03m    $ pip install -U kaleido\u001b[39;00m\n\u001b[0;32m    137\u001b[0m \u001b[38;5;124;03m\"\"\"\u001b[39;00m\n\u001b[0;32m    138\u001b[0m         )\n\u001b[0;32m    140\u001b[0m     \u001b[38;5;66;03m# Validate figure\u001b[39;00m\n\u001b[0;32m    141\u001b[0m     \u001b[38;5;66;03m# ---------------\u001b[39;00m\n\u001b[0;32m    142\u001b[0m     fig_dict \u001b[38;5;241m=\u001b[39m validate_coerce_fig_to_dict(fig, validate)\n",
      "\u001b[1;31mValueError\u001b[0m: \nImage export using the \"kaleido\" engine requires the kaleido package,\nwhich can be installed using pip:\n    $ pip install -U kaleido\n"
     ]
    }
   ],
   "source": [
    "fig.write_image(\"images/fig1.png\")\n"
   ]
  }
 ],
 "metadata": {
  "kernelspec": {
   "display_name": "Python 3",
   "language": "python",
   "name": "python3"
  },
  "language_info": {
   "codemirror_mode": {
    "name": "ipython",
    "version": 3
   },
   "file_extension": ".py",
   "mimetype": "text/x-python",
   "name": "python",
   "nbconvert_exporter": "python",
   "pygments_lexer": "ipython3",
   "version": "3.13.1"
  }
 },
 "nbformat": 4,
 "nbformat_minor": 2
}
