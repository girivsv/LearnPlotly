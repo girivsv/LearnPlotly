{
 "cells": [
  {
   "cell_type": "code",
   "execution_count": 3,
   "metadata": {},
   "outputs": [],
   "source": [
    "import pandas as pd\n",
    "import numpy as np\n",
    "import matplotlib.pyplot as plt\n",
    "import seaborn as sns"
   ]
  },
  {
   "cell_type": "code",
   "execution_count": 4,
   "metadata": {},
   "outputs": [
    {
     "name": "stdout",
     "output_type": "stream",
     "text": [
      "Requirement already satisfied: plotly in d:\\python\\lib\\site-packages (5.24.1)\n",
      "Requirement already satisfied: tenacity>=6.2.0 in d:\\python\\lib\\site-packages (from plotly) (9.0.0)\n",
      "Requirement already satisfied: packaging in c:\\users\\giri\\appdata\\roaming\\python\\python313\\site-packages (from plotly) (24.2)\n",
      "Note: you may need to restart the kernel to use updated packages.\n"
     ]
    }
   ],
   "source": [
    "pip install plotly"
   ]
  },
  {
   "cell_type": "code",
   "execution_count": 5,
   "metadata": {},
   "outputs": [],
   "source": [
    "df = pd.read_csv(\"bird-window-collision-death.csv\")"
   ]
  },
  {
   "cell_type": "code",
   "execution_count": 6,
   "metadata": {},
   "outputs": [
    {
     "data": {
      "text/html": [
       "<div>\n",
       "<style scoped>\n",
       "    .dataframe tbody tr th:only-of-type {\n",
       "        vertical-align: middle;\n",
       "    }\n",
       "\n",
       "    .dataframe tbody tr th {\n",
       "        vertical-align: top;\n",
       "    }\n",
       "\n",
       "    .dataframe thead th {\n",
       "        text-align: right;\n",
       "    }\n",
       "</style>\n",
       "<table border=\"1\" class=\"dataframe\">\n",
       "  <thead>\n",
       "    <tr style=\"text-align: right;\">\n",
       "      <th></th>\n",
       "      <th>Date</th>\n",
       "      <th>YEAR</th>\n",
       "      <th>MONTH</th>\n",
       "      <th>Bldg #</th>\n",
       "      <th>Side</th>\n",
       "      <th>SpeciesCode</th>\n",
       "      <th>Common Name</th>\n",
       "      <th>Deaths</th>\n",
       "    </tr>\n",
       "  </thead>\n",
       "  <tbody>\n",
       "    <tr>\n",
       "      <th>0</th>\n",
       "      <td>10/19/2013</td>\n",
       "      <td>2013</td>\n",
       "      <td>OCT</td>\n",
       "      <td>twelve</td>\n",
       "      <td>E</td>\n",
       "      <td>MODO</td>\n",
       "      <td>Mourning Dove</td>\n",
       "      <td>1</td>\n",
       "    </tr>\n",
       "    <tr>\n",
       "      <th>1</th>\n",
       "      <td>10/22/2013</td>\n",
       "      <td>2013</td>\n",
       "      <td>OCT</td>\n",
       "      <td>seventeen</td>\n",
       "      <td>C</td>\n",
       "      <td>EATO</td>\n",
       "      <td>Eastern Towhee</td>\n",
       "      <td>1</td>\n",
       "    </tr>\n",
       "    <tr>\n",
       "      <th>2</th>\n",
       "      <td>10/23/2013</td>\n",
       "      <td>2013</td>\n",
       "      <td>OCT</td>\n",
       "      <td>ten</td>\n",
       "      <td>D</td>\n",
       "      <td>HETH</td>\n",
       "      <td>Hermit Thrush</td>\n",
       "      <td>1</td>\n",
       "    </tr>\n",
       "    <tr>\n",
       "      <th>3</th>\n",
       "      <td>10/27/2013</td>\n",
       "      <td>2013</td>\n",
       "      <td>OCT</td>\n",
       "      <td>seven</td>\n",
       "      <td>B</td>\n",
       "      <td>GCKI</td>\n",
       "      <td>Golden-crowned Kinglet</td>\n",
       "      <td>1</td>\n",
       "    </tr>\n",
       "    <tr>\n",
       "      <th>4</th>\n",
       "      <td>10/28/2013</td>\n",
       "      <td>2013</td>\n",
       "      <td>OCT</td>\n",
       "      <td>nine</td>\n",
       "      <td>D</td>\n",
       "      <td>GRCA</td>\n",
       "      <td>Gray Catbird</td>\n",
       "      <td>1</td>\n",
       "    </tr>\n",
       "  </tbody>\n",
       "</table>\n",
       "</div>"
      ],
      "text/plain": [
       "         Date  YEAR MONTH     Bldg # Side SpeciesCode  \\\n",
       "0  10/19/2013  2013   OCT     twelve    E        MODO   \n",
       "1  10/22/2013  2013   OCT  seventeen    C        EATO   \n",
       "2  10/23/2013  2013   OCT        ten    D        HETH   \n",
       "3  10/27/2013  2013   OCT      seven    B        GCKI   \n",
       "4  10/28/2013  2013   OCT       nine    D        GRCA   \n",
       "\n",
       "               Common Name  Deaths  \n",
       "0           Mourning Dove        1  \n",
       "1          Eastern Towhee        1  \n",
       "2           Hermit Thrush        1  \n",
       "3  Golden-crowned Kinglet        1  \n",
       "4            Gray Catbird        1  "
      ]
     },
     "execution_count": 6,
     "metadata": {},
     "output_type": "execute_result"
    }
   ],
   "source": [
    "df.head()"
   ]
  },
  {
   "cell_type": "code",
   "execution_count": 7,
   "metadata": {},
   "outputs": [
    {
     "data": {
      "application/vnd.plotly.v1+json": {
       "config": {
        "plotlyServerURL": "https://plot.ly"
       },
       "data": [
        {
         "customdata": [
          [
           "E"
          ],
          [
           "C"
          ],
          [
           "D"
          ],
          [
           "B"
          ],
          [
           "D"
          ],
          [
           "B"
          ],
          [
           "B"
          ],
          [
           "B"
          ],
          [
           "A"
          ],
          [
           "B"
          ],
          [
           "C"
          ],
          [
           "D"
          ],
          [
           "C"
          ],
          [
           "A"
          ],
          [
           "D"
          ],
          [
           "C"
          ],
          [
           "C"
          ],
          [
           "C"
          ],
          [
           "C"
          ],
          [
           "B"
          ],
          [
           "B"
          ],
          [
           "B"
          ],
          [
           "C"
          ],
          [
           "A"
          ],
          [
           "D"
          ],
          [
           "D"
          ],
          [
           "A"
          ],
          [
           "C"
          ],
          [
           "D"
          ],
          [
           "E"
          ],
          [
           "C"
          ],
          [
           "A"
          ],
          [
           "A"
          ],
          [
           "D"
          ],
          [
           "B"
          ],
          [
           "D"
          ],
          [
           "D"
          ],
          [
           "A"
          ],
          [
           "B"
          ],
          [
           "C"
          ],
          [
           "D"
          ],
          [
           "A"
          ],
          [
           "C"
          ],
          [
           "B"
          ],
          [
           "B"
          ],
          [
           "F"
          ],
          [
           "E"
          ],
          [
           "C"
          ],
          [
           "A"
          ],
          [
           "F"
          ],
          [
           "A"
          ],
          [
           "D"
          ],
          [
           "E"
          ],
          [
           "B"
          ],
          [
           "E"
          ],
          [
           "B"
          ],
          [
           "F"
          ],
          [
           "B"
          ],
          [
           "D"
          ],
          [
           "B"
          ],
          [
           "C"
          ],
          [
           "A"
          ],
          [
           "C"
          ],
          [
           "B"
          ],
          [
           "B"
          ],
          [
           "C"
          ],
          [
           "B"
          ],
          [
           "D"
          ],
          [
           "B"
          ],
          [
           "A"
          ],
          [
           "E"
          ],
          [
           "A"
          ],
          [
           "A"
          ],
          [
           "A"
          ],
          [
           "B"
          ],
          [
           "C"
          ],
          [
           "A"
          ],
          [
           "C"
          ],
          [
           "C"
          ],
          [
           "B"
          ],
          [
           "B"
          ],
          [
           "G"
          ],
          [
           "A"
          ],
          [
           "B"
          ],
          [
           "D"
          ],
          [
           "B"
          ],
          [
           "B"
          ],
          [
           "D"
          ],
          [
           "B"
          ],
          [
           "C"
          ],
          [
           "B"
          ],
          [
           "F"
          ],
          [
           "B"
          ],
          [
           "D"
          ],
          [
           "B"
          ],
          [
           "C"
          ],
          [
           "B"
          ],
          [
           "B"
          ],
          [
           "A"
          ],
          [
           "A"
          ],
          [
           "A"
          ],
          [
           "B"
          ],
          [
           "D"
          ],
          [
           "C"
          ],
          [
           "B"
          ],
          [
           "D"
          ],
          [
           "B"
          ],
          [
           "B"
          ],
          [
           "B"
          ],
          [
           "D"
          ],
          [
           "F"
          ],
          [
           "D"
          ],
          [
           "B"
          ],
          [
           "C"
          ],
          [
           "B"
          ],
          [
           "E"
          ],
          [
           "B"
          ],
          [
           "C"
          ],
          [
           "G"
          ],
          [
           "C"
          ],
          [
           "D"
          ],
          [
           "A"
          ],
          [
           "B"
          ],
          [
           "A"
          ],
          [
           "B"
          ],
          [
           "B"
          ],
          [
           "C"
          ],
          [
           "C"
          ],
          [
           "D"
          ],
          [
           "B"
          ],
          [
           "A"
          ],
          [
           "B"
          ],
          [
           "F"
          ],
          [
           "E"
          ],
          [
           "C"
          ],
          [
           "C"
          ],
          [
           "C "
          ],
          [
           "B"
          ],
          [
           "G"
          ],
          [
           "D"
          ],
          [
           "D"
          ],
          [
           "A"
          ],
          [
           "B"
          ],
          [
           "C"
          ],
          [
           "A"
          ],
          [
           "D"
          ],
          [
           "D"
          ],
          [
           "C"
          ],
          [
           "C"
          ],
          [
           "F"
          ],
          [
           "E"
          ],
          [
           "A"
          ],
          [
           "D"
          ],
          [
           "A"
          ],
          [
           "C"
          ],
          [
           "D"
          ],
          [
           "D"
          ],
          [
           "D"
          ],
          [
           "D"
          ],
          [
           "B"
          ],
          [
           "D"
          ],
          [
           "B"
          ],
          [
           "B"
          ],
          [
           "A"
          ],
          [
           "A"
          ],
          [
           "D"
          ],
          [
           "B"
          ],
          [
           "D"
          ],
          [
           "D"
          ],
          [
           "A/B"
          ],
          [
           "B"
          ],
          [
           "B"
          ],
          [
           "C"
          ],
          [
           "C"
          ],
          [
           "D"
          ],
          [
           "A"
          ],
          [
           "D"
          ],
          [
           "A"
          ],
          [
           "E"
          ],
          [
           "C"
          ],
          [
           "B"
          ],
          [
           "B"
          ],
          [
           "C"
          ],
          [
           "C"
          ],
          [
           "B"
          ],
          [
           "B"
          ],
          [
           "B"
          ],
          [
           "D"
          ],
          [
           "B"
          ],
          [
           "D"
          ],
          [
           "E"
          ],
          [
           "F"
          ],
          [
           "A"
          ],
          [
           "F"
          ],
          [
           "D"
          ],
          [
           "C"
          ],
          [
           "D"
          ],
          [
           "C"
          ],
          [
           "C"
          ],
          [
           "C"
          ],
          [
           "D"
          ],
          [
           "C"
          ],
          [
           "D"
          ],
          [
           "A"
          ],
          [
           "C"
          ],
          [
           "C"
          ],
          [
           "C"
          ],
          [
           "C"
          ],
          [
           "D"
          ],
          [
           "D"
          ],
          [
           "B"
          ],
          [
           "A"
          ],
          [
           "C"
          ],
          [
           "E"
          ],
          [
           "A"
          ],
          [
           "C"
          ],
          [
           "B"
          ],
          [
           "C"
          ],
          [
           "A"
          ],
          [
           "A"
          ],
          [
           "A"
          ],
          [
           "A"
          ],
          [
           "G"
          ],
          [
           "D"
          ],
          [
           "B"
          ],
          [
           "E"
          ],
          [
           "A"
          ],
          [
           "B"
          ],
          [
           "A"
          ],
          [
           "A"
          ],
          [
           "A"
          ],
          [
           "B"
          ],
          [
           "B"
          ],
          [
           "F"
          ],
          [
           "B"
          ],
          [
           "C"
          ],
          [
           "E"
          ],
          [
           "E/A"
          ],
          [
           "E/A"
          ],
          [
           "C"
          ]
         ],
         "domain": {
          "x": [
           0,
           1
          ],
          "y": [
           0,
           1
          ]
         },
         "hole": 0.5,
         "hovertemplate": "Bldg #=%{label}<br>Deaths=%{value}<br>Side=%{customdata[0]}<extra></extra>",
         "labels": [
          "twelve",
          "seventeen",
          "ten",
          "seven",
          "nine",
          "eleven",
          "fifteen",
          "fifteen",
          "twenty",
          "seven",
          "four",
          "eleven",
          "eleven",
          "sixteen",
          "sixteen",
          "three",
          "twelve",
          "eleven",
          "twenty-four",
          "eleven",
          "one",
          "three",
          "eight",
          "eleven",
          "sixteen",
          "seven",
          "four",
          "seven",
          "one",
          "seven",
          "twenty-four",
          "twenty-one",
          "twenty-one",
          "twenty-one",
          "one",
          "eleven",
          "sixteen",
          "one",
          "one",
          "four",
          "two",
          "twenty-one",
          "seven",
          "twenty-three",
          "nine",
          "fifteen",
          "fifteen",
          "one",
          "four",
          "twelve",
          "sixteen",
          "nine",
          "twenty-one",
          "four",
          "twenty-one",
          "eleven",
          "fifteen",
          "twenty",
          "eleven",
          "eleven",
          "eleven",
          "one",
          "twelve",
          "fourteen",
          "two",
          "four",
          "eleven",
          "sixteen",
          "seventeen",
          "twenty",
          "twenty-one",
          "twenty-four",
          "twenty-seven",
          "fifteen",
          "sixteen",
          "twenty-four",
          "seven",
          "twelve",
          "fourteen",
          "one",
          "twelve",
          "fifteen",
          "twenty",
          "one",
          "ten",
          "eleven",
          "twelve",
          "nine",
          "twenty",
          "ten",
          "twelve",
          "twelve",
          "fourteen",
          "fourteen",
          "thirty",
          "thirty",
          "twelve",
          "fourteen",
          "twenty",
          "twenty-four",
          "nine",
          "twenty",
          "twenty",
          "twenty-seven",
          "one",
          "twelve",
          "twelve",
          "sixteen",
          "two",
          "three",
          "ten",
          "twelve",
          "fourteen",
          "three",
          "four",
          "ten",
          "two",
          "thirty",
          "fifteen",
          "seventeen",
          "seventeen",
          "eleven",
          "eleven",
          "fifteen",
          "fifteen",
          "sixteen",
          "twenty-one",
          "three",
          "thirty",
          "nine",
          "eleven",
          "fourteen",
          "twenty-six",
          "twelve",
          "three",
          "three",
          "seven",
          "twelve",
          "fifteen",
          "twenty-seven",
          "seventeen",
          "twenty-four",
          "two",
          "three",
          "fifteen",
          "sixteen",
          "twenty-six",
          "one",
          "eleven",
          "twelve",
          "twenty",
          "twenty",
          "twenty-seven",
          "eleven",
          "eleven",
          "ten",
          "twelve",
          "twenty-three",
          "twenty-seven",
          "eleven",
          "fourteen",
          "two",
          "eleven",
          "eleven",
          "fourteen",
          "one",
          "nine",
          "sixteen",
          "sixteen",
          "seventeen",
          "twenty",
          "one",
          "twelve",
          "thirty",
          "two",
          "fifteen",
          "sixteen",
          "twenty",
          "twelve",
          "three",
          "twelve",
          "twelve",
          "eleven",
          "three",
          "three",
          "twelve",
          "twenty",
          "eleven",
          "twelve",
          "one",
          "ten",
          "twelve",
          "twenty-four",
          "twelve",
          "twenty-three",
          "eleven",
          "twelve",
          "seven",
          "seven",
          "seven",
          "twelve",
          "thirty",
          "two",
          "twenty-one",
          "fifteen",
          "three",
          "three",
          "three",
          "seven",
          "twelve",
          "twenty-seven",
          "eleven",
          "thirty",
          "twenty",
          "twenty",
          "twenty-one",
          "twelve",
          "two",
          "thirty",
          "sixteen",
          "twenty",
          "seven",
          "fifteen",
          "sixteen",
          "eleven",
          "ten",
          "eleven",
          "eleven",
          "one",
          "fourteen",
          "fourteen",
          "fourteen",
          "fourteen",
          "twelve",
          "fourteen",
          "seven",
          "seven",
          "seven",
          "seven",
          "thirteen"
         ],
         "legendgroup": "",
         "marker": {
          "colors": [
           "rgb(103,0,31)",
           "rgb(178,24,43)",
           "rgb(214,96,77)",
           "rgb(244,165,130)",
           "rgb(214,96,77)",
           "rgb(244,165,130)",
           "rgb(244,165,130)",
           "rgb(244,165,130)",
           "rgb(253,219,199)",
           "rgb(244,165,130)",
           "rgb(178,24,43)",
           "rgb(214,96,77)",
           "rgb(178,24,43)",
           "rgb(253,219,199)",
           "rgb(214,96,77)",
           "rgb(178,24,43)",
           "rgb(178,24,43)",
           "rgb(178,24,43)",
           "rgb(178,24,43)",
           "rgb(244,165,130)",
           "rgb(244,165,130)",
           "rgb(244,165,130)",
           "rgb(178,24,43)",
           "rgb(253,219,199)",
           "rgb(214,96,77)",
           "rgb(214,96,77)",
           "rgb(253,219,199)",
           "rgb(178,24,43)",
           "rgb(214,96,77)",
           "rgb(103,0,31)",
           "rgb(178,24,43)",
           "rgb(253,219,199)",
           "rgb(253,219,199)",
           "rgb(214,96,77)",
           "rgb(244,165,130)",
           "rgb(214,96,77)",
           "rgb(214,96,77)",
           "rgb(253,219,199)",
           "rgb(244,165,130)",
           "rgb(178,24,43)",
           "rgb(214,96,77)",
           "rgb(253,219,199)",
           "rgb(178,24,43)",
           "rgb(244,165,130)",
           "rgb(244,165,130)",
           "rgb(247,247,247)",
           "rgb(103,0,31)",
           "rgb(178,24,43)",
           "rgb(253,219,199)",
           "rgb(247,247,247)",
           "rgb(253,219,199)",
           "rgb(214,96,77)",
           "rgb(103,0,31)",
           "rgb(244,165,130)",
           "rgb(103,0,31)",
           "rgb(244,165,130)",
           "rgb(247,247,247)",
           "rgb(244,165,130)",
           "rgb(214,96,77)",
           "rgb(244,165,130)",
           "rgb(178,24,43)",
           "rgb(253,219,199)",
           "rgb(178,24,43)",
           "rgb(244,165,130)",
           "rgb(244,165,130)",
           "rgb(178,24,43)",
           "rgb(244,165,130)",
           "rgb(214,96,77)",
           "rgb(244,165,130)",
           "rgb(253,219,199)",
           "rgb(103,0,31)",
           "rgb(253,219,199)",
           "rgb(253,219,199)",
           "rgb(253,219,199)",
           "rgb(244,165,130)",
           "rgb(178,24,43)",
           "rgb(253,219,199)",
           "rgb(178,24,43)",
           "rgb(178,24,43)",
           "rgb(244,165,130)",
           "rgb(244,165,130)",
           "rgb(209,229,240)",
           "rgb(253,219,199)",
           "rgb(244,165,130)",
           "rgb(214,96,77)",
           "rgb(244,165,130)",
           "rgb(244,165,130)",
           "rgb(214,96,77)",
           "rgb(244,165,130)",
           "rgb(178,24,43)",
           "rgb(244,165,130)",
           "rgb(247,247,247)",
           "rgb(244,165,130)",
           "rgb(214,96,77)",
           "rgb(244,165,130)",
           "rgb(178,24,43)",
           "rgb(244,165,130)",
           "rgb(244,165,130)",
           "rgb(253,219,199)",
           "rgb(253,219,199)",
           "rgb(253,219,199)",
           "rgb(244,165,130)",
           "rgb(214,96,77)",
           "rgb(178,24,43)",
           "rgb(244,165,130)",
           "rgb(214,96,77)",
           "rgb(244,165,130)",
           "rgb(244,165,130)",
           "rgb(244,165,130)",
           "rgb(214,96,77)",
           "rgb(247,247,247)",
           "rgb(214,96,77)",
           "rgb(244,165,130)",
           "rgb(178,24,43)",
           "rgb(244,165,130)",
           "rgb(103,0,31)",
           "rgb(244,165,130)",
           "rgb(178,24,43)",
           "rgb(209,229,240)",
           "rgb(178,24,43)",
           "rgb(214,96,77)",
           "rgb(253,219,199)",
           "rgb(244,165,130)",
           "rgb(253,219,199)",
           "rgb(244,165,130)",
           "rgb(244,165,130)",
           "rgb(178,24,43)",
           "rgb(178,24,43)",
           "rgb(214,96,77)",
           "rgb(244,165,130)",
           "rgb(253,219,199)",
           "rgb(244,165,130)",
           "rgb(247,247,247)",
           "rgb(103,0,31)",
           "rgb(178,24,43)",
           "rgb(178,24,43)",
           "rgb(146,197,222)",
           "rgb(244,165,130)",
           "rgb(209,229,240)",
           "rgb(214,96,77)",
           "rgb(214,96,77)",
           "rgb(253,219,199)",
           "rgb(244,165,130)",
           "rgb(178,24,43)",
           "rgb(253,219,199)",
           "rgb(214,96,77)",
           "rgb(214,96,77)",
           "rgb(178,24,43)",
           "rgb(178,24,43)",
           "rgb(247,247,247)",
           "rgb(103,0,31)",
           "rgb(253,219,199)",
           "rgb(214,96,77)",
           "rgb(253,219,199)",
           "rgb(178,24,43)",
           "rgb(214,96,77)",
           "rgb(214,96,77)",
           "rgb(214,96,77)",
           "rgb(214,96,77)",
           "rgb(244,165,130)",
           "rgb(214,96,77)",
           "rgb(244,165,130)",
           "rgb(244,165,130)",
           "rgb(253,219,199)",
           "rgb(253,219,199)",
           "rgb(214,96,77)",
           "rgb(244,165,130)",
           "rgb(214,96,77)",
           "rgb(214,96,77)",
           "rgb(67,147,195)",
           "rgb(244,165,130)",
           "rgb(244,165,130)",
           "rgb(178,24,43)",
           "rgb(178,24,43)",
           "rgb(214,96,77)",
           "rgb(253,219,199)",
           "rgb(214,96,77)",
           "rgb(253,219,199)",
           "rgb(103,0,31)",
           "rgb(178,24,43)",
           "rgb(244,165,130)",
           "rgb(244,165,130)",
           "rgb(178,24,43)",
           "rgb(178,24,43)",
           "rgb(244,165,130)",
           "rgb(244,165,130)",
           "rgb(244,165,130)",
           "rgb(214,96,77)",
           "rgb(244,165,130)",
           "rgb(214,96,77)",
           "rgb(103,0,31)",
           "rgb(247,247,247)",
           "rgb(253,219,199)",
           "rgb(247,247,247)",
           "rgb(214,96,77)",
           "rgb(178,24,43)",
           "rgb(214,96,77)",
           "rgb(178,24,43)",
           "rgb(178,24,43)",
           "rgb(178,24,43)",
           "rgb(214,96,77)",
           "rgb(178,24,43)",
           "rgb(214,96,77)",
           "rgb(253,219,199)",
           "rgb(178,24,43)",
           "rgb(178,24,43)",
           "rgb(178,24,43)",
           "rgb(178,24,43)",
           "rgb(214,96,77)",
           "rgb(214,96,77)",
           "rgb(244,165,130)",
           "rgb(253,219,199)",
           "rgb(178,24,43)",
           "rgb(103,0,31)",
           "rgb(253,219,199)",
           "rgb(178,24,43)",
           "rgb(244,165,130)",
           "rgb(178,24,43)",
           "rgb(253,219,199)",
           "rgb(253,219,199)",
           "rgb(253,219,199)",
           "rgb(253,219,199)",
           "rgb(209,229,240)",
           "rgb(214,96,77)",
           "rgb(244,165,130)",
           "rgb(103,0,31)",
           "rgb(253,219,199)",
           "rgb(244,165,130)",
           "rgb(253,219,199)",
           "rgb(253,219,199)",
           "rgb(253,219,199)",
           "rgb(244,165,130)",
           "rgb(244,165,130)",
           "rgb(247,247,247)",
           "rgb(244,165,130)",
           "rgb(178,24,43)",
           "rgb(103,0,31)",
           "rgb(33,102,172)",
           "rgb(33,102,172)",
           "rgb(178,24,43)"
          ]
         },
         "name": "",
         "showlegend": true,
         "type": "pie",
         "values": [
          1,
          1,
          1,
          1,
          1,
          1,
          1,
          1,
          1,
          1,
          1,
          1,
          1,
          1,
          1,
          1,
          1,
          1,
          1,
          1,
          1,
          1,
          1,
          1,
          1,
          1,
          1,
          1,
          1,
          1,
          1,
          1,
          1,
          1,
          1,
          1,
          1,
          1,
          1,
          1,
          1,
          1,
          1,
          1,
          1,
          1,
          1,
          1,
          1,
          1,
          1,
          1,
          1,
          1,
          1,
          1,
          1,
          1,
          1,
          1,
          1,
          1,
          1,
          1,
          1,
          1,
          1,
          1,
          1,
          1,
          1,
          1,
          1,
          1,
          1,
          1,
          1,
          1,
          1,
          1,
          1,
          1,
          1,
          1,
          1,
          1,
          1,
          1,
          1,
          1,
          1,
          1,
          1,
          1,
          1,
          1,
          1,
          1,
          1,
          1,
          1,
          1,
          1,
          1,
          1,
          1,
          1,
          1,
          1,
          1,
          1,
          1,
          1,
          1,
          1,
          1,
          1,
          1,
          1,
          1,
          1,
          1,
          1,
          1,
          1,
          1,
          1,
          1,
          1,
          1,
          1,
          1,
          1,
          1,
          1,
          1,
          1,
          1,
          1,
          1,
          1,
          1,
          1,
          1,
          1,
          1,
          1,
          1,
          1,
          1,
          1,
          1,
          1,
          1,
          1,
          1,
          1,
          1,
          1,
          1,
          1,
          1,
          1,
          1,
          1,
          1,
          1,
          1,
          1,
          1,
          1,
          1,
          1,
          1,
          1,
          1,
          1,
          1,
          1,
          1,
          1,
          1,
          1,
          1,
          1,
          1,
          1,
          1,
          1,
          1,
          1,
          1,
          1,
          1,
          1,
          1,
          1,
          1,
          1,
          1,
          1,
          1,
          1,
          1,
          1,
          1,
          1,
          1,
          1,
          1,
          1,
          1,
          1,
          1,
          1,
          1,
          1,
          1,
          1,
          1,
          1,
          1,
          1,
          1,
          1,
          1,
          1,
          1,
          1,
          1,
          1,
          1,
          1,
          1,
          1,
          1,
          1,
          1,
          1,
          1
         ]
        }
       ],
       "layout": {
        "legend": {
         "tracegroupgap": 0
        },
        "margin": {
         "t": 60
        },
        "piecolorway": [
         "rgb(103,0,31)",
         "rgb(178,24,43)",
         "rgb(214,96,77)",
         "rgb(244,165,130)",
         "rgb(253,219,199)",
         "rgb(247,247,247)",
         "rgb(209,229,240)",
         "rgb(146,197,222)",
         "rgb(67,147,195)",
         "rgb(33,102,172)",
         "rgb(5,48,97)"
        ],
        "template": {
         "data": {
          "bar": [
           {
            "error_x": {
             "color": "#2a3f5f"
            },
            "error_y": {
             "color": "#2a3f5f"
            },
            "marker": {
             "line": {
              "color": "#E5ECF6",
              "width": 0.5
             },
             "pattern": {
              "fillmode": "overlay",
              "size": 10,
              "solidity": 0.2
             }
            },
            "type": "bar"
           }
          ],
          "barpolar": [
           {
            "marker": {
             "line": {
              "color": "#E5ECF6",
              "width": 0.5
             },
             "pattern": {
              "fillmode": "overlay",
              "size": 10,
              "solidity": 0.2
             }
            },
            "type": "barpolar"
           }
          ],
          "carpet": [
           {
            "aaxis": {
             "endlinecolor": "#2a3f5f",
             "gridcolor": "white",
             "linecolor": "white",
             "minorgridcolor": "white",
             "startlinecolor": "#2a3f5f"
            },
            "baxis": {
             "endlinecolor": "#2a3f5f",
             "gridcolor": "white",
             "linecolor": "white",
             "minorgridcolor": "white",
             "startlinecolor": "#2a3f5f"
            },
            "type": "carpet"
           }
          ],
          "choropleth": [
           {
            "colorbar": {
             "outlinewidth": 0,
             "ticks": ""
            },
            "type": "choropleth"
           }
          ],
          "contour": [
           {
            "colorbar": {
             "outlinewidth": 0,
             "ticks": ""
            },
            "colorscale": [
             [
              0,
              "#0d0887"
             ],
             [
              0.1111111111111111,
              "#46039f"
             ],
             [
              0.2222222222222222,
              "#7201a8"
             ],
             [
              0.3333333333333333,
              "#9c179e"
             ],
             [
              0.4444444444444444,
              "#bd3786"
             ],
             [
              0.5555555555555556,
              "#d8576b"
             ],
             [
              0.6666666666666666,
              "#ed7953"
             ],
             [
              0.7777777777777778,
              "#fb9f3a"
             ],
             [
              0.8888888888888888,
              "#fdca26"
             ],
             [
              1,
              "#f0f921"
             ]
            ],
            "type": "contour"
           }
          ],
          "contourcarpet": [
           {
            "colorbar": {
             "outlinewidth": 0,
             "ticks": ""
            },
            "type": "contourcarpet"
           }
          ],
          "heatmap": [
           {
            "colorbar": {
             "outlinewidth": 0,
             "ticks": ""
            },
            "colorscale": [
             [
              0,
              "#0d0887"
             ],
             [
              0.1111111111111111,
              "#46039f"
             ],
             [
              0.2222222222222222,
              "#7201a8"
             ],
             [
              0.3333333333333333,
              "#9c179e"
             ],
             [
              0.4444444444444444,
              "#bd3786"
             ],
             [
              0.5555555555555556,
              "#d8576b"
             ],
             [
              0.6666666666666666,
              "#ed7953"
             ],
             [
              0.7777777777777778,
              "#fb9f3a"
             ],
             [
              0.8888888888888888,
              "#fdca26"
             ],
             [
              1,
              "#f0f921"
             ]
            ],
            "type": "heatmap"
           }
          ],
          "heatmapgl": [
           {
            "colorbar": {
             "outlinewidth": 0,
             "ticks": ""
            },
            "colorscale": [
             [
              0,
              "#0d0887"
             ],
             [
              0.1111111111111111,
              "#46039f"
             ],
             [
              0.2222222222222222,
              "#7201a8"
             ],
             [
              0.3333333333333333,
              "#9c179e"
             ],
             [
              0.4444444444444444,
              "#bd3786"
             ],
             [
              0.5555555555555556,
              "#d8576b"
             ],
             [
              0.6666666666666666,
              "#ed7953"
             ],
             [
              0.7777777777777778,
              "#fb9f3a"
             ],
             [
              0.8888888888888888,
              "#fdca26"
             ],
             [
              1,
              "#f0f921"
             ]
            ],
            "type": "heatmapgl"
           }
          ],
          "histogram": [
           {
            "marker": {
             "pattern": {
              "fillmode": "overlay",
              "size": 10,
              "solidity": 0.2
             }
            },
            "type": "histogram"
           }
          ],
          "histogram2d": [
           {
            "colorbar": {
             "outlinewidth": 0,
             "ticks": ""
            },
            "colorscale": [
             [
              0,
              "#0d0887"
             ],
             [
              0.1111111111111111,
              "#46039f"
             ],
             [
              0.2222222222222222,
              "#7201a8"
             ],
             [
              0.3333333333333333,
              "#9c179e"
             ],
             [
              0.4444444444444444,
              "#bd3786"
             ],
             [
              0.5555555555555556,
              "#d8576b"
             ],
             [
              0.6666666666666666,
              "#ed7953"
             ],
             [
              0.7777777777777778,
              "#fb9f3a"
             ],
             [
              0.8888888888888888,
              "#fdca26"
             ],
             [
              1,
              "#f0f921"
             ]
            ],
            "type": "histogram2d"
           }
          ],
          "histogram2dcontour": [
           {
            "colorbar": {
             "outlinewidth": 0,
             "ticks": ""
            },
            "colorscale": [
             [
              0,
              "#0d0887"
             ],
             [
              0.1111111111111111,
              "#46039f"
             ],
             [
              0.2222222222222222,
              "#7201a8"
             ],
             [
              0.3333333333333333,
              "#9c179e"
             ],
             [
              0.4444444444444444,
              "#bd3786"
             ],
             [
              0.5555555555555556,
              "#d8576b"
             ],
             [
              0.6666666666666666,
              "#ed7953"
             ],
             [
              0.7777777777777778,
              "#fb9f3a"
             ],
             [
              0.8888888888888888,
              "#fdca26"
             ],
             [
              1,
              "#f0f921"
             ]
            ],
            "type": "histogram2dcontour"
           }
          ],
          "mesh3d": [
           {
            "colorbar": {
             "outlinewidth": 0,
             "ticks": ""
            },
            "type": "mesh3d"
           }
          ],
          "parcoords": [
           {
            "line": {
             "colorbar": {
              "outlinewidth": 0,
              "ticks": ""
             }
            },
            "type": "parcoords"
           }
          ],
          "pie": [
           {
            "automargin": true,
            "type": "pie"
           }
          ],
          "scatter": [
           {
            "fillpattern": {
             "fillmode": "overlay",
             "size": 10,
             "solidity": 0.2
            },
            "type": "scatter"
           }
          ],
          "scatter3d": [
           {
            "line": {
             "colorbar": {
              "outlinewidth": 0,
              "ticks": ""
             }
            },
            "marker": {
             "colorbar": {
              "outlinewidth": 0,
              "ticks": ""
             }
            },
            "type": "scatter3d"
           }
          ],
          "scattercarpet": [
           {
            "marker": {
             "colorbar": {
              "outlinewidth": 0,
              "ticks": ""
             }
            },
            "type": "scattercarpet"
           }
          ],
          "scattergeo": [
           {
            "marker": {
             "colorbar": {
              "outlinewidth": 0,
              "ticks": ""
             }
            },
            "type": "scattergeo"
           }
          ],
          "scattergl": [
           {
            "marker": {
             "colorbar": {
              "outlinewidth": 0,
              "ticks": ""
             }
            },
            "type": "scattergl"
           }
          ],
          "scattermapbox": [
           {
            "marker": {
             "colorbar": {
              "outlinewidth": 0,
              "ticks": ""
             }
            },
            "type": "scattermapbox"
           }
          ],
          "scatterpolar": [
           {
            "marker": {
             "colorbar": {
              "outlinewidth": 0,
              "ticks": ""
             }
            },
            "type": "scatterpolar"
           }
          ],
          "scatterpolargl": [
           {
            "marker": {
             "colorbar": {
              "outlinewidth": 0,
              "ticks": ""
             }
            },
            "type": "scatterpolargl"
           }
          ],
          "scatterternary": [
           {
            "marker": {
             "colorbar": {
              "outlinewidth": 0,
              "ticks": ""
             }
            },
            "type": "scatterternary"
           }
          ],
          "surface": [
           {
            "colorbar": {
             "outlinewidth": 0,
             "ticks": ""
            },
            "colorscale": [
             [
              0,
              "#0d0887"
             ],
             [
              0.1111111111111111,
              "#46039f"
             ],
             [
              0.2222222222222222,
              "#7201a8"
             ],
             [
              0.3333333333333333,
              "#9c179e"
             ],
             [
              0.4444444444444444,
              "#bd3786"
             ],
             [
              0.5555555555555556,
              "#d8576b"
             ],
             [
              0.6666666666666666,
              "#ed7953"
             ],
             [
              0.7777777777777778,
              "#fb9f3a"
             ],
             [
              0.8888888888888888,
              "#fdca26"
             ],
             [
              1,
              "#f0f921"
             ]
            ],
            "type": "surface"
           }
          ],
          "table": [
           {
            "cells": {
             "fill": {
              "color": "#EBF0F8"
             },
             "line": {
              "color": "white"
             }
            },
            "header": {
             "fill": {
              "color": "#C8D4E3"
             },
             "line": {
              "color": "white"
             }
            },
            "type": "table"
           }
          ]
         },
         "layout": {
          "annotationdefaults": {
           "arrowcolor": "#2a3f5f",
           "arrowhead": 0,
           "arrowwidth": 1
          },
          "autotypenumbers": "strict",
          "coloraxis": {
           "colorbar": {
            "outlinewidth": 0,
            "ticks": ""
           }
          },
          "colorscale": {
           "diverging": [
            [
             0,
             "#8e0152"
            ],
            [
             0.1,
             "#c51b7d"
            ],
            [
             0.2,
             "#de77ae"
            ],
            [
             0.3,
             "#f1b6da"
            ],
            [
             0.4,
             "#fde0ef"
            ],
            [
             0.5,
             "#f7f7f7"
            ],
            [
             0.6,
             "#e6f5d0"
            ],
            [
             0.7,
             "#b8e186"
            ],
            [
             0.8,
             "#7fbc41"
            ],
            [
             0.9,
             "#4d9221"
            ],
            [
             1,
             "#276419"
            ]
           ],
           "sequential": [
            [
             0,
             "#0d0887"
            ],
            [
             0.1111111111111111,
             "#46039f"
            ],
            [
             0.2222222222222222,
             "#7201a8"
            ],
            [
             0.3333333333333333,
             "#9c179e"
            ],
            [
             0.4444444444444444,
             "#bd3786"
            ],
            [
             0.5555555555555556,
             "#d8576b"
            ],
            [
             0.6666666666666666,
             "#ed7953"
            ],
            [
             0.7777777777777778,
             "#fb9f3a"
            ],
            [
             0.8888888888888888,
             "#fdca26"
            ],
            [
             1,
             "#f0f921"
            ]
           ],
           "sequentialminus": [
            [
             0,
             "#0d0887"
            ],
            [
             0.1111111111111111,
             "#46039f"
            ],
            [
             0.2222222222222222,
             "#7201a8"
            ],
            [
             0.3333333333333333,
             "#9c179e"
            ],
            [
             0.4444444444444444,
             "#bd3786"
            ],
            [
             0.5555555555555556,
             "#d8576b"
            ],
            [
             0.6666666666666666,
             "#ed7953"
            ],
            [
             0.7777777777777778,
             "#fb9f3a"
            ],
            [
             0.8888888888888888,
             "#fdca26"
            ],
            [
             1,
             "#f0f921"
            ]
           ]
          },
          "colorway": [
           "#636efa",
           "#EF553B",
           "#00cc96",
           "#ab63fa",
           "#FFA15A",
           "#19d3f3",
           "#FF6692",
           "#B6E880",
           "#FF97FF",
           "#FECB52"
          ],
          "font": {
           "color": "#2a3f5f"
          },
          "geo": {
           "bgcolor": "white",
           "lakecolor": "white",
           "landcolor": "#E5ECF6",
           "showlakes": true,
           "showland": true,
           "subunitcolor": "white"
          },
          "hoverlabel": {
           "align": "left"
          },
          "hovermode": "closest",
          "mapbox": {
           "style": "light"
          },
          "paper_bgcolor": "white",
          "plot_bgcolor": "#E5ECF6",
          "polar": {
           "angularaxis": {
            "gridcolor": "white",
            "linecolor": "white",
            "ticks": ""
           },
           "bgcolor": "#E5ECF6",
           "radialaxis": {
            "gridcolor": "white",
            "linecolor": "white",
            "ticks": ""
           }
          },
          "scene": {
           "xaxis": {
            "backgroundcolor": "#E5ECF6",
            "gridcolor": "white",
            "gridwidth": 2,
            "linecolor": "white",
            "showbackground": true,
            "ticks": "",
            "zerolinecolor": "white"
           },
           "yaxis": {
            "backgroundcolor": "#E5ECF6",
            "gridcolor": "white",
            "gridwidth": 2,
            "linecolor": "white",
            "showbackground": true,
            "ticks": "",
            "zerolinecolor": "white"
           },
           "zaxis": {
            "backgroundcolor": "#E5ECF6",
            "gridcolor": "white",
            "gridwidth": 2,
            "linecolor": "white",
            "showbackground": true,
            "ticks": "",
            "zerolinecolor": "white"
           }
          },
          "shapedefaults": {
           "line": {
            "color": "#2a3f5f"
           }
          },
          "ternary": {
           "aaxis": {
            "gridcolor": "white",
            "linecolor": "white",
            "ticks": ""
           },
           "baxis": {
            "gridcolor": "white",
            "linecolor": "white",
            "ticks": ""
           },
           "bgcolor": "#E5ECF6",
           "caxis": {
            "gridcolor": "white",
            "linecolor": "white",
            "ticks": ""
           }
          },
          "title": {
           "x": 0.05
          },
          "xaxis": {
           "automargin": true,
           "gridcolor": "white",
           "linecolor": "white",
           "ticks": "",
           "title": {
            "standoff": 15
           },
           "zerolinecolor": "white",
           "zerolinewidth": 2
          },
          "yaxis": {
           "automargin": true,
           "gridcolor": "white",
           "linecolor": "white",
           "ticks": "",
           "title": {
            "standoff": 15
           },
           "zerolinecolor": "white",
           "zerolinewidth": 2
          }
         }
        }
       }
      }
     },
     "metadata": {},
     "output_type": "display_data"
    }
   ],
   "source": [
    "import plotly.express as px\n",
    "df = pd.read_csv(\"bird-window-collision-death.csv\")\n",
    "fig = px.pie(df, values='Deaths', names='Bldg #', color='Side', hole=0.5, color_discrete_sequence=px.colors.sequential.RdBu)\n",
    "fig.show()"
   ]
  },
  {
   "cell_type": "code",
   "execution_count": 8,
   "metadata": {},
   "outputs": [
    {
     "data": {
      "application/vnd.plotly.v1+json": {
       "config": {
        "plotlyServerURL": "https://plot.ly"
       },
       "data": [
        {
         "customdata": [
          [
           "E"
          ],
          [
           "C"
          ],
          [
           "D"
          ],
          [
           "B"
          ],
          [
           "D"
          ],
          [
           "B"
          ],
          [
           "B"
          ],
          [
           "B"
          ],
          [
           "A"
          ],
          [
           "B"
          ],
          [
           "C"
          ],
          [
           "D"
          ],
          [
           "C"
          ],
          [
           "A"
          ],
          [
           "D"
          ],
          [
           "C"
          ],
          [
           "C"
          ],
          [
           "C"
          ],
          [
           "C"
          ],
          [
           "B"
          ],
          [
           "B"
          ],
          [
           "B"
          ],
          [
           "C"
          ],
          [
           "A"
          ],
          [
           "D"
          ],
          [
           "D"
          ],
          [
           "A"
          ],
          [
           "C"
          ],
          [
           "D"
          ],
          [
           "E"
          ],
          [
           "C"
          ],
          [
           "A"
          ],
          [
           "A"
          ],
          [
           "D"
          ],
          [
           "B"
          ],
          [
           "D"
          ],
          [
           "D"
          ],
          [
           "A"
          ],
          [
           "B"
          ],
          [
           "C"
          ],
          [
           "D"
          ],
          [
           "A"
          ],
          [
           "C"
          ],
          [
           "B"
          ],
          [
           "B"
          ],
          [
           "F"
          ],
          [
           "E"
          ],
          [
           "C"
          ],
          [
           "A"
          ],
          [
           "F"
          ],
          [
           "A"
          ],
          [
           "D"
          ],
          [
           "E"
          ],
          [
           "B"
          ],
          [
           "E"
          ],
          [
           "B"
          ],
          [
           "F"
          ],
          [
           "B"
          ],
          [
           "D"
          ],
          [
           "B"
          ],
          [
           "C"
          ],
          [
           "A"
          ],
          [
           "C"
          ],
          [
           "B"
          ],
          [
           "B"
          ],
          [
           "C"
          ],
          [
           "B"
          ],
          [
           "D"
          ],
          [
           "B"
          ],
          [
           "A"
          ],
          [
           "E"
          ],
          [
           "A"
          ],
          [
           "A"
          ],
          [
           "A"
          ],
          [
           "B"
          ],
          [
           "C"
          ],
          [
           "A"
          ],
          [
           "C"
          ],
          [
           "C"
          ],
          [
           "B"
          ],
          [
           "B"
          ],
          [
           "G"
          ],
          [
           "A"
          ],
          [
           "B"
          ],
          [
           "D"
          ],
          [
           "B"
          ],
          [
           "B"
          ],
          [
           "D"
          ],
          [
           "B"
          ],
          [
           "C"
          ],
          [
           "B"
          ],
          [
           "F"
          ],
          [
           "B"
          ],
          [
           "D"
          ],
          [
           "B"
          ],
          [
           "C"
          ],
          [
           "B"
          ],
          [
           "B"
          ],
          [
           "A"
          ],
          [
           "A"
          ],
          [
           "A"
          ],
          [
           "B"
          ],
          [
           "D"
          ],
          [
           "C"
          ],
          [
           "B"
          ],
          [
           "D"
          ],
          [
           "B"
          ],
          [
           "B"
          ],
          [
           "B"
          ],
          [
           "D"
          ],
          [
           "F"
          ],
          [
           "D"
          ],
          [
           "B"
          ],
          [
           "C"
          ],
          [
           "B"
          ],
          [
           "E"
          ],
          [
           "B"
          ],
          [
           "C"
          ],
          [
           "G"
          ],
          [
           "C"
          ],
          [
           "D"
          ],
          [
           "A"
          ],
          [
           "B"
          ],
          [
           "A"
          ],
          [
           "B"
          ],
          [
           "B"
          ],
          [
           "C"
          ],
          [
           "C"
          ],
          [
           "D"
          ],
          [
           "B"
          ],
          [
           "A"
          ],
          [
           "B"
          ],
          [
           "F"
          ],
          [
           "E"
          ],
          [
           "C"
          ],
          [
           "C"
          ],
          [
           "C "
          ],
          [
           "B"
          ],
          [
           "G"
          ],
          [
           "D"
          ],
          [
           "D"
          ],
          [
           "A"
          ],
          [
           "B"
          ],
          [
           "C"
          ],
          [
           "A"
          ],
          [
           "D"
          ],
          [
           "D"
          ],
          [
           "C"
          ],
          [
           "C"
          ],
          [
           "F"
          ],
          [
           "E"
          ],
          [
           "A"
          ],
          [
           "D"
          ],
          [
           "A"
          ],
          [
           "C"
          ],
          [
           "D"
          ],
          [
           "D"
          ],
          [
           "D"
          ],
          [
           "D"
          ],
          [
           "B"
          ],
          [
           "D"
          ],
          [
           "B"
          ],
          [
           "B"
          ],
          [
           "A"
          ],
          [
           "A"
          ],
          [
           "D"
          ],
          [
           "B"
          ],
          [
           "D"
          ],
          [
           "D"
          ],
          [
           "A/B"
          ],
          [
           "B"
          ],
          [
           "B"
          ],
          [
           "C"
          ],
          [
           "C"
          ],
          [
           "D"
          ],
          [
           "A"
          ],
          [
           "D"
          ],
          [
           "A"
          ],
          [
           "E"
          ],
          [
           "C"
          ],
          [
           "B"
          ],
          [
           "B"
          ],
          [
           "C"
          ],
          [
           "C"
          ],
          [
           "B"
          ],
          [
           "B"
          ],
          [
           "B"
          ],
          [
           "D"
          ],
          [
           "B"
          ],
          [
           "D"
          ],
          [
           "E"
          ],
          [
           "F"
          ],
          [
           "A"
          ],
          [
           "F"
          ],
          [
           "D"
          ],
          [
           "C"
          ],
          [
           "D"
          ],
          [
           "C"
          ],
          [
           "C"
          ],
          [
           "C"
          ],
          [
           "D"
          ],
          [
           "C"
          ],
          [
           "D"
          ],
          [
           "A"
          ],
          [
           "C"
          ],
          [
           "C"
          ],
          [
           "C"
          ],
          [
           "C"
          ],
          [
           "D"
          ],
          [
           "D"
          ],
          [
           "B"
          ],
          [
           "A"
          ],
          [
           "C"
          ],
          [
           "E"
          ],
          [
           "A"
          ],
          [
           "C"
          ],
          [
           "B"
          ],
          [
           "C"
          ],
          [
           "A"
          ],
          [
           "A"
          ],
          [
           "A"
          ],
          [
           "A"
          ],
          [
           "G"
          ],
          [
           "D"
          ],
          [
           "B"
          ],
          [
           "E"
          ],
          [
           "A"
          ],
          [
           "B"
          ],
          [
           "A"
          ],
          [
           "A"
          ],
          [
           "A"
          ],
          [
           "B"
          ],
          [
           "B"
          ],
          [
           "F"
          ],
          [
           "B"
          ],
          [
           "C"
          ],
          [
           "E"
          ],
          [
           "E/A"
          ],
          [
           "E/A"
          ],
          [
           "C"
          ]
         ],
         "domain": {
          "x": [
           0,
           1
          ],
          "y": [
           0,
           1
          ]
         },
         "hole": 0.5,
         "hovertemplate": "Bldg #=%{label}<br>Deaths=%{value}<br>Side=%{customdata[0]}<extra></extra>",
         "insidetextfont": {
          "color": "white",
          "size": 8
         },
         "labels": [
          "twelve",
          "seventeen",
          "ten",
          "seven",
          "nine",
          "eleven",
          "fifteen",
          "fifteen",
          "twenty",
          "seven",
          "four",
          "eleven",
          "eleven",
          "sixteen",
          "sixteen",
          "three",
          "twelve",
          "eleven",
          "twenty-four",
          "eleven",
          "one",
          "three",
          "eight",
          "eleven",
          "sixteen",
          "seven",
          "four",
          "seven",
          "one",
          "seven",
          "twenty-four",
          "twenty-one",
          "twenty-one",
          "twenty-one",
          "one",
          "eleven",
          "sixteen",
          "one",
          "one",
          "four",
          "two",
          "twenty-one",
          "seven",
          "twenty-three",
          "nine",
          "fifteen",
          "fifteen",
          "one",
          "four",
          "twelve",
          "sixteen",
          "nine",
          "twenty-one",
          "four",
          "twenty-one",
          "eleven",
          "fifteen",
          "twenty",
          "eleven",
          "eleven",
          "eleven",
          "one",
          "twelve",
          "fourteen",
          "two",
          "four",
          "eleven",
          "sixteen",
          "seventeen",
          "twenty",
          "twenty-one",
          "twenty-four",
          "twenty-seven",
          "fifteen",
          "sixteen",
          "twenty-four",
          "seven",
          "twelve",
          "fourteen",
          "one",
          "twelve",
          "fifteen",
          "twenty",
          "one",
          "ten",
          "eleven",
          "twelve",
          "nine",
          "twenty",
          "ten",
          "twelve",
          "twelve",
          "fourteen",
          "fourteen",
          "thirty",
          "thirty",
          "twelve",
          "fourteen",
          "twenty",
          "twenty-four",
          "nine",
          "twenty",
          "twenty",
          "twenty-seven",
          "one",
          "twelve",
          "twelve",
          "sixteen",
          "two",
          "three",
          "ten",
          "twelve",
          "fourteen",
          "three",
          "four",
          "ten",
          "two",
          "thirty",
          "fifteen",
          "seventeen",
          "seventeen",
          "eleven",
          "eleven",
          "fifteen",
          "fifteen",
          "sixteen",
          "twenty-one",
          "three",
          "thirty",
          "nine",
          "eleven",
          "fourteen",
          "twenty-six",
          "twelve",
          "three",
          "three",
          "seven",
          "twelve",
          "fifteen",
          "twenty-seven",
          "seventeen",
          "twenty-four",
          "two",
          "three",
          "fifteen",
          "sixteen",
          "twenty-six",
          "one",
          "eleven",
          "twelve",
          "twenty",
          "twenty",
          "twenty-seven",
          "eleven",
          "eleven",
          "ten",
          "twelve",
          "twenty-three",
          "twenty-seven",
          "eleven",
          "fourteen",
          "two",
          "eleven",
          "eleven",
          "fourteen",
          "one",
          "nine",
          "sixteen",
          "sixteen",
          "seventeen",
          "twenty",
          "one",
          "twelve",
          "thirty",
          "two",
          "fifteen",
          "sixteen",
          "twenty",
          "twelve",
          "three",
          "twelve",
          "twelve",
          "eleven",
          "three",
          "three",
          "twelve",
          "twenty",
          "eleven",
          "twelve",
          "one",
          "ten",
          "twelve",
          "twenty-four",
          "twelve",
          "twenty-three",
          "eleven",
          "twelve",
          "seven",
          "seven",
          "seven",
          "twelve",
          "thirty",
          "two",
          "twenty-one",
          "fifteen",
          "three",
          "three",
          "three",
          "seven",
          "twelve",
          "twenty-seven",
          "eleven",
          "thirty",
          "twenty",
          "twenty",
          "twenty-one",
          "twelve",
          "two",
          "thirty",
          "sixteen",
          "twenty",
          "seven",
          "fifteen",
          "sixteen",
          "eleven",
          "ten",
          "eleven",
          "eleven",
          "one",
          "fourteen",
          "fourteen",
          "fourteen",
          "fourteen",
          "twelve",
          "fourteen",
          "seven",
          "seven",
          "seven",
          "seven",
          "thirteen"
         ],
         "legendgroup": "",
         "marker": {
          "colors": [
           "#636efa",
           "#EF553B",
           "#00cc96",
           "#ab63fa",
           "#00cc96",
           "#ab63fa",
           "#ab63fa",
           "#ab63fa",
           "#FFA15A",
           "#ab63fa",
           "#EF553B",
           "#00cc96",
           "#EF553B",
           "#FFA15A",
           "#00cc96",
           "#EF553B",
           "#EF553B",
           "#EF553B",
           "#EF553B",
           "#ab63fa",
           "#ab63fa",
           "#ab63fa",
           "#EF553B",
           "#FFA15A",
           "#00cc96",
           "#00cc96",
           "#FFA15A",
           "#EF553B",
           "#00cc96",
           "#636efa",
           "#EF553B",
           "#FFA15A",
           "#FFA15A",
           "#00cc96",
           "#ab63fa",
           "#00cc96",
           "#00cc96",
           "#FFA15A",
           "#ab63fa",
           "#EF553B",
           "#00cc96",
           "#FFA15A",
           "#EF553B",
           "#ab63fa",
           "#ab63fa",
           "#19d3f3",
           "#636efa",
           "#EF553B",
           "#FFA15A",
           "#19d3f3",
           "#FFA15A",
           "#00cc96",
           "#636efa",
           "#ab63fa",
           "#636efa",
           "#ab63fa",
           "#19d3f3",
           "#ab63fa",
           "#00cc96",
           "#ab63fa",
           "#EF553B",
           "#FFA15A",
           "#EF553B",
           "#ab63fa",
           "#ab63fa",
           "#EF553B",
           "#ab63fa",
           "#00cc96",
           "#ab63fa",
           "#FFA15A",
           "#636efa",
           "#FFA15A",
           "#FFA15A",
           "#FFA15A",
           "#ab63fa",
           "#EF553B",
           "#FFA15A",
           "#EF553B",
           "#EF553B",
           "#ab63fa",
           "#ab63fa",
           "#FF6692",
           "#FFA15A",
           "#ab63fa",
           "#00cc96",
           "#ab63fa",
           "#ab63fa",
           "#00cc96",
           "#ab63fa",
           "#EF553B",
           "#ab63fa",
           "#19d3f3",
           "#ab63fa",
           "#00cc96",
           "#ab63fa",
           "#EF553B",
           "#ab63fa",
           "#ab63fa",
           "#FFA15A",
           "#FFA15A",
           "#FFA15A",
           "#ab63fa",
           "#00cc96",
           "#EF553B",
           "#ab63fa",
           "#00cc96",
           "#ab63fa",
           "#ab63fa",
           "#ab63fa",
           "#00cc96",
           "#19d3f3",
           "#00cc96",
           "#ab63fa",
           "#EF553B",
           "#ab63fa",
           "#636efa",
           "#ab63fa",
           "#EF553B",
           "#FF6692",
           "#EF553B",
           "#00cc96",
           "#FFA15A",
           "#ab63fa",
           "#FFA15A",
           "#ab63fa",
           "#ab63fa",
           "#EF553B",
           "#EF553B",
           "#00cc96",
           "#ab63fa",
           "#FFA15A",
           "#ab63fa",
           "#19d3f3",
           "#636efa",
           "#EF553B",
           "#EF553B",
           "#B6E880",
           "#ab63fa",
           "#FF6692",
           "#00cc96",
           "#00cc96",
           "#FFA15A",
           "#ab63fa",
           "#EF553B",
           "#FFA15A",
           "#00cc96",
           "#00cc96",
           "#EF553B",
           "#EF553B",
           "#19d3f3",
           "#636efa",
           "#FFA15A",
           "#00cc96",
           "#FFA15A",
           "#EF553B",
           "#00cc96",
           "#00cc96",
           "#00cc96",
           "#00cc96",
           "#ab63fa",
           "#00cc96",
           "#ab63fa",
           "#ab63fa",
           "#FFA15A",
           "#FFA15A",
           "#00cc96",
           "#ab63fa",
           "#00cc96",
           "#00cc96",
           "#FF97FF",
           "#ab63fa",
           "#ab63fa",
           "#EF553B",
           "#EF553B",
           "#00cc96",
           "#FFA15A",
           "#00cc96",
           "#FFA15A",
           "#636efa",
           "#EF553B",
           "#ab63fa",
           "#ab63fa",
           "#EF553B",
           "#EF553B",
           "#ab63fa",
           "#ab63fa",
           "#ab63fa",
           "#00cc96",
           "#ab63fa",
           "#00cc96",
           "#636efa",
           "#19d3f3",
           "#FFA15A",
           "#19d3f3",
           "#00cc96",
           "#EF553B",
           "#00cc96",
           "#EF553B",
           "#EF553B",
           "#EF553B",
           "#00cc96",
           "#EF553B",
           "#00cc96",
           "#FFA15A",
           "#EF553B",
           "#EF553B",
           "#EF553B",
           "#EF553B",
           "#00cc96",
           "#00cc96",
           "#ab63fa",
           "#FFA15A",
           "#EF553B",
           "#636efa",
           "#FFA15A",
           "#EF553B",
           "#ab63fa",
           "#EF553B",
           "#FFA15A",
           "#FFA15A",
           "#FFA15A",
           "#FFA15A",
           "#FF6692",
           "#00cc96",
           "#ab63fa",
           "#636efa",
           "#FFA15A",
           "#ab63fa",
           "#FFA15A",
           "#FFA15A",
           "#FFA15A",
           "#ab63fa",
           "#ab63fa",
           "#19d3f3",
           "#ab63fa",
           "#EF553B",
           "#636efa",
           "#FECB52",
           "#FECB52",
           "#EF553B"
          ]
         },
         "name": "",
         "showlegend": true,
         "textinfo": "label+percent",
         "type": "pie",
         "values": [
          1,
          1,
          1,
          1,
          1,
          1,
          1,
          1,
          1,
          1,
          1,
          1,
          1,
          1,
          1,
          1,
          1,
          1,
          1,
          1,
          1,
          1,
          1,
          1,
          1,
          1,
          1,
          1,
          1,
          1,
          1,
          1,
          1,
          1,
          1,
          1,
          1,
          1,
          1,
          1,
          1,
          1,
          1,
          1,
          1,
          1,
          1,
          1,
          1,
          1,
          1,
          1,
          1,
          1,
          1,
          1,
          1,
          1,
          1,
          1,
          1,
          1,
          1,
          1,
          1,
          1,
          1,
          1,
          1,
          1,
          1,
          1,
          1,
          1,
          1,
          1,
          1,
          1,
          1,
          1,
          1,
          1,
          1,
          1,
          1,
          1,
          1,
          1,
          1,
          1,
          1,
          1,
          1,
          1,
          1,
          1,
          1,
          1,
          1,
          1,
          1,
          1,
          1,
          1,
          1,
          1,
          1,
          1,
          1,
          1,
          1,
          1,
          1,
          1,
          1,
          1,
          1,
          1,
          1,
          1,
          1,
          1,
          1,
          1,
          1,
          1,
          1,
          1,
          1,
          1,
          1,
          1,
          1,
          1,
          1,
          1,
          1,
          1,
          1,
          1,
          1,
          1,
          1,
          1,
          1,
          1,
          1,
          1,
          1,
          1,
          1,
          1,
          1,
          1,
          1,
          1,
          1,
          1,
          1,
          1,
          1,
          1,
          1,
          1,
          1,
          1,
          1,
          1,
          1,
          1,
          1,
          1,
          1,
          1,
          1,
          1,
          1,
          1,
          1,
          1,
          1,
          1,
          1,
          1,
          1,
          1,
          1,
          1,
          1,
          1,
          1,
          1,
          1,
          1,
          1,
          1,
          1,
          1,
          1,
          1,
          1,
          1,
          1,
          1,
          1,
          1,
          1,
          1,
          1,
          1,
          1,
          1,
          1,
          1,
          1,
          1,
          1,
          1,
          1,
          1,
          1,
          1,
          1,
          1,
          1,
          1,
          1,
          1,
          1,
          1,
          1,
          1,
          1,
          1,
          1,
          1,
          1,
          1,
          1,
          1
         ]
        }
       ],
       "layout": {
        "legend": {
         "itemclick": false,
         "tracegroupgap": 0
        },
        "margin": {
         "t": 60
        },
        "template": {
         "data": {
          "bar": [
           {
            "error_x": {
             "color": "#2a3f5f"
            },
            "error_y": {
             "color": "#2a3f5f"
            },
            "marker": {
             "line": {
              "color": "#E5ECF6",
              "width": 0.5
             },
             "pattern": {
              "fillmode": "overlay",
              "size": 10,
              "solidity": 0.2
             }
            },
            "type": "bar"
           }
          ],
          "barpolar": [
           {
            "marker": {
             "line": {
              "color": "#E5ECF6",
              "width": 0.5
             },
             "pattern": {
              "fillmode": "overlay",
              "size": 10,
              "solidity": 0.2
             }
            },
            "type": "barpolar"
           }
          ],
          "carpet": [
           {
            "aaxis": {
             "endlinecolor": "#2a3f5f",
             "gridcolor": "white",
             "linecolor": "white",
             "minorgridcolor": "white",
             "startlinecolor": "#2a3f5f"
            },
            "baxis": {
             "endlinecolor": "#2a3f5f",
             "gridcolor": "white",
             "linecolor": "white",
             "minorgridcolor": "white",
             "startlinecolor": "#2a3f5f"
            },
            "type": "carpet"
           }
          ],
          "choropleth": [
           {
            "colorbar": {
             "outlinewidth": 0,
             "ticks": ""
            },
            "type": "choropleth"
           }
          ],
          "contour": [
           {
            "colorbar": {
             "outlinewidth": 0,
             "ticks": ""
            },
            "colorscale": [
             [
              0,
              "#0d0887"
             ],
             [
              0.1111111111111111,
              "#46039f"
             ],
             [
              0.2222222222222222,
              "#7201a8"
             ],
             [
              0.3333333333333333,
              "#9c179e"
             ],
             [
              0.4444444444444444,
              "#bd3786"
             ],
             [
              0.5555555555555556,
              "#d8576b"
             ],
             [
              0.6666666666666666,
              "#ed7953"
             ],
             [
              0.7777777777777778,
              "#fb9f3a"
             ],
             [
              0.8888888888888888,
              "#fdca26"
             ],
             [
              1,
              "#f0f921"
             ]
            ],
            "type": "contour"
           }
          ],
          "contourcarpet": [
           {
            "colorbar": {
             "outlinewidth": 0,
             "ticks": ""
            },
            "type": "contourcarpet"
           }
          ],
          "heatmap": [
           {
            "colorbar": {
             "outlinewidth": 0,
             "ticks": ""
            },
            "colorscale": [
             [
              0,
              "#0d0887"
             ],
             [
              0.1111111111111111,
              "#46039f"
             ],
             [
              0.2222222222222222,
              "#7201a8"
             ],
             [
              0.3333333333333333,
              "#9c179e"
             ],
             [
              0.4444444444444444,
              "#bd3786"
             ],
             [
              0.5555555555555556,
              "#d8576b"
             ],
             [
              0.6666666666666666,
              "#ed7953"
             ],
             [
              0.7777777777777778,
              "#fb9f3a"
             ],
             [
              0.8888888888888888,
              "#fdca26"
             ],
             [
              1,
              "#f0f921"
             ]
            ],
            "type": "heatmap"
           }
          ],
          "heatmapgl": [
           {
            "colorbar": {
             "outlinewidth": 0,
             "ticks": ""
            },
            "colorscale": [
             [
              0,
              "#0d0887"
             ],
             [
              0.1111111111111111,
              "#46039f"
             ],
             [
              0.2222222222222222,
              "#7201a8"
             ],
             [
              0.3333333333333333,
              "#9c179e"
             ],
             [
              0.4444444444444444,
              "#bd3786"
             ],
             [
              0.5555555555555556,
              "#d8576b"
             ],
             [
              0.6666666666666666,
              "#ed7953"
             ],
             [
              0.7777777777777778,
              "#fb9f3a"
             ],
             [
              0.8888888888888888,
              "#fdca26"
             ],
             [
              1,
              "#f0f921"
             ]
            ],
            "type": "heatmapgl"
           }
          ],
          "histogram": [
           {
            "marker": {
             "pattern": {
              "fillmode": "overlay",
              "size": 10,
              "solidity": 0.2
             }
            },
            "type": "histogram"
           }
          ],
          "histogram2d": [
           {
            "colorbar": {
             "outlinewidth": 0,
             "ticks": ""
            },
            "colorscale": [
             [
              0,
              "#0d0887"
             ],
             [
              0.1111111111111111,
              "#46039f"
             ],
             [
              0.2222222222222222,
              "#7201a8"
             ],
             [
              0.3333333333333333,
              "#9c179e"
             ],
             [
              0.4444444444444444,
              "#bd3786"
             ],
             [
              0.5555555555555556,
              "#d8576b"
             ],
             [
              0.6666666666666666,
              "#ed7953"
             ],
             [
              0.7777777777777778,
              "#fb9f3a"
             ],
             [
              0.8888888888888888,
              "#fdca26"
             ],
             [
              1,
              "#f0f921"
             ]
            ],
            "type": "histogram2d"
           }
          ],
          "histogram2dcontour": [
           {
            "colorbar": {
             "outlinewidth": 0,
             "ticks": ""
            },
            "colorscale": [
             [
              0,
              "#0d0887"
             ],
             [
              0.1111111111111111,
              "#46039f"
             ],
             [
              0.2222222222222222,
              "#7201a8"
             ],
             [
              0.3333333333333333,
              "#9c179e"
             ],
             [
              0.4444444444444444,
              "#bd3786"
             ],
             [
              0.5555555555555556,
              "#d8576b"
             ],
             [
              0.6666666666666666,
              "#ed7953"
             ],
             [
              0.7777777777777778,
              "#fb9f3a"
             ],
             [
              0.8888888888888888,
              "#fdca26"
             ],
             [
              1,
              "#f0f921"
             ]
            ],
            "type": "histogram2dcontour"
           }
          ],
          "mesh3d": [
           {
            "colorbar": {
             "outlinewidth": 0,
             "ticks": ""
            },
            "type": "mesh3d"
           }
          ],
          "parcoords": [
           {
            "line": {
             "colorbar": {
              "outlinewidth": 0,
              "ticks": ""
             }
            },
            "type": "parcoords"
           }
          ],
          "pie": [
           {
            "automargin": true,
            "type": "pie"
           }
          ],
          "scatter": [
           {
            "fillpattern": {
             "fillmode": "overlay",
             "size": 10,
             "solidity": 0.2
            },
            "type": "scatter"
           }
          ],
          "scatter3d": [
           {
            "line": {
             "colorbar": {
              "outlinewidth": 0,
              "ticks": ""
             }
            },
            "marker": {
             "colorbar": {
              "outlinewidth": 0,
              "ticks": ""
             }
            },
            "type": "scatter3d"
           }
          ],
          "scattercarpet": [
           {
            "marker": {
             "colorbar": {
              "outlinewidth": 0,
              "ticks": ""
             }
            },
            "type": "scattercarpet"
           }
          ],
          "scattergeo": [
           {
            "marker": {
             "colorbar": {
              "outlinewidth": 0,
              "ticks": ""
             }
            },
            "type": "scattergeo"
           }
          ],
          "scattergl": [
           {
            "marker": {
             "colorbar": {
              "outlinewidth": 0,
              "ticks": ""
             }
            },
            "type": "scattergl"
           }
          ],
          "scattermapbox": [
           {
            "marker": {
             "colorbar": {
              "outlinewidth": 0,
              "ticks": ""
             }
            },
            "type": "scattermapbox"
           }
          ],
          "scatterpolar": [
           {
            "marker": {
             "colorbar": {
              "outlinewidth": 0,
              "ticks": ""
             }
            },
            "type": "scatterpolar"
           }
          ],
          "scatterpolargl": [
           {
            "marker": {
             "colorbar": {
              "outlinewidth": 0,
              "ticks": ""
             }
            },
            "type": "scatterpolargl"
           }
          ],
          "scatterternary": [
           {
            "marker": {
             "colorbar": {
              "outlinewidth": 0,
              "ticks": ""
             }
            },
            "type": "scatterternary"
           }
          ],
          "surface": [
           {
            "colorbar": {
             "outlinewidth": 0,
             "ticks": ""
            },
            "colorscale": [
             [
              0,
              "#0d0887"
             ],
             [
              0.1111111111111111,
              "#46039f"
             ],
             [
              0.2222222222222222,
              "#7201a8"
             ],
             [
              0.3333333333333333,
              "#9c179e"
             ],
             [
              0.4444444444444444,
              "#bd3786"
             ],
             [
              0.5555555555555556,
              "#d8576b"
             ],
             [
              0.6666666666666666,
              "#ed7953"
             ],
             [
              0.7777777777777778,
              "#fb9f3a"
             ],
             [
              0.8888888888888888,
              "#fdca26"
             ],
             [
              1,
              "#f0f921"
             ]
            ],
            "type": "surface"
           }
          ],
          "table": [
           {
            "cells": {
             "fill": {
              "color": "#EBF0F8"
             },
             "line": {
              "color": "white"
             }
            },
            "header": {
             "fill": {
              "color": "#C8D4E3"
             },
             "line": {
              "color": "white"
             }
            },
            "type": "table"
           }
          ]
         },
         "layout": {
          "annotationdefaults": {
           "arrowcolor": "#2a3f5f",
           "arrowhead": 0,
           "arrowwidth": 1
          },
          "autotypenumbers": "strict",
          "coloraxis": {
           "colorbar": {
            "outlinewidth": 0,
            "ticks": ""
           }
          },
          "colorscale": {
           "diverging": [
            [
             0,
             "#8e0152"
            ],
            [
             0.1,
             "#c51b7d"
            ],
            [
             0.2,
             "#de77ae"
            ],
            [
             0.3,
             "#f1b6da"
            ],
            [
             0.4,
             "#fde0ef"
            ],
            [
             0.5,
             "#f7f7f7"
            ],
            [
             0.6,
             "#e6f5d0"
            ],
            [
             0.7,
             "#b8e186"
            ],
            [
             0.8,
             "#7fbc41"
            ],
            [
             0.9,
             "#4d9221"
            ],
            [
             1,
             "#276419"
            ]
           ],
           "sequential": [
            [
             0,
             "#0d0887"
            ],
            [
             0.1111111111111111,
             "#46039f"
            ],
            [
             0.2222222222222222,
             "#7201a8"
            ],
            [
             0.3333333333333333,
             "#9c179e"
            ],
            [
             0.4444444444444444,
             "#bd3786"
            ],
            [
             0.5555555555555556,
             "#d8576b"
            ],
            [
             0.6666666666666666,
             "#ed7953"
            ],
            [
             0.7777777777777778,
             "#fb9f3a"
            ],
            [
             0.8888888888888888,
             "#fdca26"
            ],
            [
             1,
             "#f0f921"
            ]
           ],
           "sequentialminus": [
            [
             0,
             "#0d0887"
            ],
            [
             0.1111111111111111,
             "#46039f"
            ],
            [
             0.2222222222222222,
             "#7201a8"
            ],
            [
             0.3333333333333333,
             "#9c179e"
            ],
            [
             0.4444444444444444,
             "#bd3786"
            ],
            [
             0.5555555555555556,
             "#d8576b"
            ],
            [
             0.6666666666666666,
             "#ed7953"
            ],
            [
             0.7777777777777778,
             "#fb9f3a"
            ],
            [
             0.8888888888888888,
             "#fdca26"
            ],
            [
             1,
             "#f0f921"
            ]
           ]
          },
          "colorway": [
           "#636efa",
           "#EF553B",
           "#00cc96",
           "#ab63fa",
           "#FFA15A",
           "#19d3f3",
           "#FF6692",
           "#B6E880",
           "#FF97FF",
           "#FECB52"
          ],
          "font": {
           "color": "#2a3f5f"
          },
          "geo": {
           "bgcolor": "white",
           "lakecolor": "white",
           "landcolor": "#E5ECF6",
           "showlakes": true,
           "showland": true,
           "subunitcolor": "white"
          },
          "hoverlabel": {
           "align": "left"
          },
          "hovermode": "closest",
          "mapbox": {
           "style": "light"
          },
          "paper_bgcolor": "white",
          "plot_bgcolor": "#E5ECF6",
          "polar": {
           "angularaxis": {
            "gridcolor": "white",
            "linecolor": "white",
            "ticks": ""
           },
           "bgcolor": "#E5ECF6",
           "radialaxis": {
            "gridcolor": "white",
            "linecolor": "white",
            "ticks": ""
           }
          },
          "scene": {
           "xaxis": {
            "backgroundcolor": "#E5ECF6",
            "gridcolor": "white",
            "gridwidth": 2,
            "linecolor": "white",
            "showbackground": true,
            "ticks": "",
            "zerolinecolor": "white"
           },
           "yaxis": {
            "backgroundcolor": "#E5ECF6",
            "gridcolor": "white",
            "gridwidth": 2,
            "linecolor": "white",
            "showbackground": true,
            "ticks": "",
            "zerolinecolor": "white"
           },
           "zaxis": {
            "backgroundcolor": "#E5ECF6",
            "gridcolor": "white",
            "gridwidth": 2,
            "linecolor": "white",
            "showbackground": true,
            "ticks": "",
            "zerolinecolor": "white"
           }
          },
          "shapedefaults": {
           "line": {
            "color": "#2a3f5f"
           }
          },
          "ternary": {
           "aaxis": {
            "gridcolor": "white",
            "linecolor": "white",
            "ticks": ""
           },
           "baxis": {
            "gridcolor": "white",
            "linecolor": "white",
            "ticks": ""
           },
           "bgcolor": "#E5ECF6",
           "caxis": {
            "gridcolor": "white",
            "linecolor": "white",
            "ticks": ""
           }
          },
          "title": {
           "x": 0.05
          },
          "xaxis": {
           "automargin": true,
           "gridcolor": "white",
           "linecolor": "white",
           "ticks": "",
           "title": {
            "standoff": 15
           },
           "zerolinecolor": "white",
           "zerolinewidth": 2
          },
          "yaxis": {
           "automargin": true,
           "gridcolor": "white",
           "linecolor": "white",
           "ticks": "",
           "title": {
            "standoff": 15
           },
           "zerolinecolor": "white",
           "zerolinewidth": 2
          }
         }
        }
       }
      }
     },
     "metadata": {},
     "output_type": "display_data"
    }
   ],
   "source": [
    "import plotly.express as px\n",
    "df = pd.read_csv(\"bird-window-collision-death.csv\")\n",
    "fig = px.pie(df, values='Deaths', names='Bldg #', color='Side', hole=0.5)\n",
    "fig.update_traces(textinfo=\"label+percent\", \n",
    "                    insidetextfont=dict(color='white'),\n",
    "                    insidetextfont_size=8)\n",
    "fig.update_layout(legend_itemclick=False)\n",
    "fig.show()"
   ]
  },
  {
   "cell_type": "code",
   "execution_count": 10,
   "metadata": {},
   "outputs": [],
   "source": [
    "fig.write_image(\"fig1.png\")\n"
   ]
  }
 ],
 "metadata": {
  "kernelspec": {
   "display_name": "Python 3",
   "language": "python",
   "name": "python3"
  },
  "language_info": {
   "codemirror_mode": {
    "name": "ipython",
    "version": 3
   },
   "file_extension": ".py",
   "mimetype": "text/x-python",
   "name": "python",
   "nbconvert_exporter": "python",
   "pygments_lexer": "ipython3",
   "version": "3.13.1"
  }
 },
 "nbformat": 4,
 "nbformat_minor": 2
}
